{
  "nbformat": 4,
  "nbformat_minor": 0,
  "metadata": {
    "colab": {
      "provenance": []
    },
    "kernelspec": {
      "name": "python3",
      "display_name": "Python 3"
    },
    "language_info": {
      "name": "python"
    }
  },
  "cells": [
    {
      "cell_type": "code",
      "source": [
        "# denormalized_df.show(truncate=False)"
      ],
      "metadata": {
        "id": "C3gLEBqNhzDx"
      },
      "execution_count": null,
      "outputs": []
    },
    {
      "cell_type": "code",
      "source": [
        "pip install pyspark"
      ],
      "metadata": {
        "colab": {
          "base_uri": "https://localhost:8080/"
        },
        "id": "hRCymTgBmd2I",
        "outputId": "06cce5d8-2acd-476d-aacb-ab173cb274a9"
      },
      "execution_count": 1,
      "outputs": [
        {
          "output_type": "stream",
          "name": "stdout",
          "text": [
            "Collecting pyspark\n",
            "  Downloading pyspark-3.5.1.tar.gz (317.0 MB)\n",
            "\u001b[2K     \u001b[90m━━━━━━━━━━━━━━━━━━━━━━━━━━━━━━━━━━━━━━━━\u001b[0m \u001b[32m317.0/317.0 MB\u001b[0m \u001b[31m4.2 MB/s\u001b[0m eta \u001b[36m0:00:00\u001b[0m\n",
            "\u001b[?25h  Preparing metadata (setup.py) ... \u001b[?25l\u001b[?25hdone\n",
            "Requirement already satisfied: py4j==0.10.9.7 in /usr/local/lib/python3.10/dist-packages (from pyspark) (0.10.9.7)\n",
            "Building wheels for collected packages: pyspark\n",
            "  Building wheel for pyspark (setup.py) ... \u001b[?25l\u001b[?25hdone\n",
            "  Created wheel for pyspark: filename=pyspark-3.5.1-py2.py3-none-any.whl size=317488491 sha256=1236cb1777fecc28b7fdcfbb385de9cab3429e4efa8304adc50cd7acbe055374\n",
            "  Stored in directory: /root/.cache/pip/wheels/80/1d/60/2c256ed38dddce2fdd93be545214a63e02fbd8d74fb0b7f3a6\n",
            "Successfully built pyspark\n",
            "Installing collected packages: pyspark\n",
            "Successfully installed pyspark-3.5.1\n"
          ]
        }
      ]
    },
    {
      "cell_type": "code",
      "execution_count": 2,
      "metadata": {
        "colab": {
          "base_uri": "https://localhost:8080/"
        },
        "id": "RcQ6yRz2hp8Z",
        "outputId": "48e51565-311c-4c55-cc97-135f83132690"
      },
      "outputs": [
        {
          "output_type": "stream",
          "name": "stdout",
          "text": [
            "Mounted at /content/drive\n"
          ]
        }
      ],
      "source": [
        "from google.colab import drive\n",
        "drive.mount('/content/drive')\n",
        "from pyspark.sql import SparkSession"
      ]
    },
    {
      "cell_type": "code",
      "source": [
        "spark = SparkSession.builder \\\n",
        "    .appName(\"tax_product\") \\\n",
        "    .getOrCreate()"
      ],
      "metadata": {
        "id": "aJ16ByOfhzBN"
      },
      "execution_count": 3,
      "outputs": []
    },
    {
      "cell_type": "code",
      "source": [
        "customer_df = spark.read.csv(\"/content/drive/MyDrive/1_Deloitte_Assignment/customer_table_2\", header=True, inferSchema=True)\n",
        "transaction_df = spark.read.csv(\"/content/drive/MyDrive/1_Deloitte_Assignment/transaction_table_2\", header=True, inferSchema=True)\n",
        "product_df = spark.read.csv(\"/content/drive/MyDrive/1_Deloitte_Assignment/product_table_2\", header=True, inferSchema=True)\n",
        "promotion_df = spark.read.csv(\"/content/drive/MyDrive/1_Deloitte_Assignment/promotion_table_2\", header=True, inferSchema=True)\n",
        "promotion_df = promotion_df.withColumnRenamed(\"description\", \"prom_description\")"
      ],
      "metadata": {
        "id": "IfbTWVyAhzF6"
      },
      "execution_count": 22,
      "outputs": []
    },
    {
      "cell_type": "code",
      "source": [
        "# promotion_df.show()"
      ],
      "metadata": {
        "id": "EogIXh2ckv1M"
      },
      "execution_count": 23,
      "outputs": []
    },
    {
      "cell_type": "code",
      "source": [
        "# ###### denormalized customer #######\n",
        "# from pyspark.sql.functions import split, explode, regexp_replace\n",
        "\n",
        "# # Remove brackets from the elements in the purchase_history array column\n",
        "# customer_df = customer_df.withColumn(\"purchase_history_array\", split(regexp_replace(customer_df[\"purchase_history\"], \"[\\[\\]]\", \"\"), \", \"))\n",
        "\n",
        "# # Explode the purchase_history_array column to create separate rows for each element\n",
        "# customer_denormalized_df = customer_df.select(\"customer_id\",\"name\",\"membership_level\",\"geographical_region\", explode(\"purchase_history_array\").alias(\"individual_purchase_history\"))\n",
        "\n",
        "# # Show the denormalized DataFrame\n",
        "# # customer_denormalized_df.show(truncate=False)\n"
      ],
      "metadata": {
        "id": "PggKxvKEhzW6"
      },
      "execution_count": 24,
      "outputs": []
    },
    {
      "cell_type": "code",
      "source": [
        "customer_df.show(truncate = False)"
      ],
      "metadata": {
        "colab": {
          "base_uri": "https://localhost:8080/"
        },
        "id": "3QP8cxd1mjy_",
        "outputId": "532e8b69-cbb8-4b85-efec-8d0c6f945758"
      },
      "execution_count": 25,
      "outputs": [
        {
          "output_type": "stream",
          "name": "stdout",
          "text": [
            "+------------------------------------+-----------------+----------------+-------------------+----------------------------------------------------------------------------------------------------------------------------------------------------------------------------------------------------------------------------------------------------------------------------------------------------------------------------------------------------------------------------------------------------------------+\n",
            "|customer_id                         |name             |membership_level|geographical_region|purchase_history                                                                                                                                                                                                                                                                                                                                                                                                |\n",
            "+------------------------------------+-----------------+----------------+-------------------+----------------------------------------------------------------------------------------------------------------------------------------------------------------------------------------------------------------------------------------------------------------------------------------------------------------------------------------------------------------------------------------------------------------+\n",
            "|9742cbb9-c28e-47de-b2db-f02776e70b85|Francisco Patel  |Gold            |North America      |['d5dc3b47-3242-43d1-9cc7-5b2211cbe15a', '2a116c4b-af48-46db-ae5b-fb7261dfe215', '777a1db1-3761-489e-a8b1-be13191c4039', '1b92e367-c627-4713-afb2-ba58411e8766', 'e117f4ae-c11f-4e11-8e1c-b93c154445e8']                                                                                                                                                                                                        |\n",
            "|655db238-14e9-42b8-9579-f93e4a1674a7|Charles Burton   |Gold            |Asia               |['aa9d902d-ec82-4c46-80ca-78818441a6d0']                                                                                                                                                                                                                                                                                                                                                                        |\n",
            "|efc925cb-f306-48d9-ac2b-9ddda0fc095f|Donna Dickson    |Gold            |Europe             |['84f738d0-d0ac-42f8-a863-b6df1d476aa3']                                                                                                                                                                                                                                                                                                                                                                        |\n",
            "|4a2168d7-170a-4d83-a97f-0b28283ecb22|Tara Williams    |Silver          |North America      |['1a5919e6-50f7-45e9-9c97-24676a10192c', 'be40d076-8fb2-48a5-9358-4937c57c71c1', '1f345b78-7c89-4069-b9f5-4a59c375b2d5', '917b2d10-6e50-4d25-ac3a-ee8a12a7de46', '8453ae37-b49c-4daf-9285-198a396eb7e9']                                                                                                                                                                                                        |\n",
            "|8619066f-21d0-409b-a673-256c34121c94|Richard Duran    |Silver          |Australia          |['5c1e9cd9-4f01-4d5b-b0e7-2bfc1cf39aef', 'fb9999d0-37e8-4147-9f2c-1fd95f956aad', '0d00fc7e-1cfe-4435-8809-d51becab810d', '97d5dedc-4697-481a-bb64-3eaf41248d76', '5c9ccb16-99fb-4b01-bda2-16fe8e466ea6']                                                                                                                                                                                                        |\n",
            "|c39195c1-113f-40f5-bb66-8c638c7d74e7|Christina Osborne|Gold            |Australia          |['a0b2fd73-636f-48fc-89af-ae9ed0aefb2e', 'fd75f8ae-ed01-4130-9730-1b325d655135', '4e6d9bcd-3b37-48ae-b6ee-e543b9d570a7']                                                                                                                                                                                                                                                                                        |\n",
            "|1e6be13a-b22c-4bb7-bfaa-4f4e258d779a|Madeline Adams   |Bronze          |Asia               |['aa716a26-e5c5-4af1-bbd3-7549d8c7600d', '5ee863e4-6f41-4dc1-93cb-275772c234a4', '5d368174-85a5-472d-b0ab-edd22659f6c4', '24a813e4-4506-4694-aff2-bd3fc74547ab', 'a075098e-45c6-42a8-9b1f-151e0af36274', 'dcf2a697-a8df-4289-af58-b04cddf1c139', 'ba11100f-76a9-4688-8985-43042f14b75b', 'ffb70a21-8fe2-4ddc-8156-73260a12c725']                                                                                |\n",
            "|590d5911-17eb-40b0-8d76-8b106e130479|Patricia Cox     |Silver          |Europe             |['73c0c4f8-037e-4acd-8463-531e38a2edf7', '1100dba2-4c38-43ad-883a-0a7b10a2cd69', '4c641ded-d6cc-41bf-aedf-b3517148e2f3']                                                                                                                                                                                                                                                                                        |\n",
            "|500e863a-ced8-4fb7-b960-a26e45837889|Shannon Mccall   |Gold            |North America      |['a5d409e3-11b8-4d29-9287-9600e3f5371e', 'f092497a-d254-468f-8b5b-a17eb6b72578', 'da9b55d8-9940-42e9-81dc-13f54674a872', '8cf3d2b8-4688-4080-ae5e-1f4a1485986c']                                                                                                                                                                                                                                                |\n",
            "|66247aea-f5b0-4022-99b9-f6158c657b70|Jacqueline Howard|Gold            |North America      |['c1c214e1-e2d4-4bcb-9eb4-0c3723829f54', '1b36c6f3-5259-4d26-91b8-018f6bcb677a', 'a23b6f82-b6c4-400f-8060-f0436e4bc827', '65efc3a6-4607-4942-bc93-15d7a2fcb0a7', 'dad5467e-23fb-401c-93ff-1968354e887e', '73d62b8d-3bc5-4e62-b6aa-6203d3cc8ac3', '05f4b127-2ba8-44bf-b99c-2b088051f2ef', '6ad198ed-6935-4d45-8cc6-a82fd443cd87']                                                                                |\n",
            "|720b489e-b751-41ae-86e8-2086a10d8ae4|Christopher Beck |Bronze          |Europe             |['0d5ac1ba-8ed0-41bf-9b34-99ade1fbfa97', '398eccf3-dc43-40d1-be7f-2ddada26ac17', '8635e216-6b53-4baf-a497-134a4648ff71']                                                                                                                                                                                                                                                                                        |\n",
            "|80176fc6-93a1-4bb6-96f8-ac5bdcf1e9b1|Tiffany Valdez   |Gold            |North America      |['3bdf8e8a-47ca-4036-924f-4c0c0aad6a57', 'ad4fefa6-bd8c-4a10-b21f-2a4c9c014dd1']                                                                                                                                                                                                                                                                                                                                |\n",
            "|15048dfe-61dd-487f-b519-43407fbac631|Thomas Schroeder |Gold            |Australia          |['59ca53b1-5dfa-4917-a0c8-539015fbcf0c', 'b55c03d5-5b7c-4d6c-87bd-af62f694689a', '2aaa2d09-77d8-4657-a204-96799200d704', '38e8bc4a-f438-4eab-bd7a-ca7200058a6a', '2d429a7f-803c-468b-9eaf-a0a758d95941', '3303977d-ac49-4abf-a26d-320a70bd0c97', '08c3176c-e9a1-42bc-b9d3-739f6c998270', '3ca89b81-67a3-444e-973f-51645fb434ff', '1564bbab-b0b7-43fb-b38b-a71539828eea']                                        |\n",
            "|299f1a0e-8583-4ec5-99ad-3a90897c68f0|Curtis Martin    |Silver          |Asia               |['7d35abba-410d-4c3d-8eac-432389891128', '74586d0b-b04e-47ba-abd6-f3dd9f870595', '3f259eed-0614-4383-b29e-b996c4710be1', '16fb2581-e562-4d41-87c4-b88e9cae4b4a', '0713c4c8-ed68-45d1-bbb7-ac8d988f4ab2', '3535e943-60a4-458e-bdac-20255061f332', '27133745-6dc8-4110-87a4-fe8fa218dda6']                                                                                                                        |\n",
            "|37fbf77c-d6db-4c8f-bc02-4e4269e663ff|Michael Walton   |Gold            |Asia               |['988c9aa5-c666-47fd-a33b-2ab07914db10', '09163c9c-7c77-4a58-a925-393534cbbdda', 'a9382087-4de4-419f-8bfd-7dd64badcbb7', 'd5be6d14-c44e-4cc4-bf35-fb0e40af85c0', 'ba4ec863-3b9c-470e-8db0-61dfed84dfc4', 'd3021f76-7f15-4ac6-b6b8-b6589296074a', '724a750f-9b59-4fd2-afe1-6580a2ab36d3', 'f865b104-b962-401a-8823-23ec9e18d25e', '913f0d72-5b99-45bc-9f5f-a7ea544cf0c6']                                        |\n",
            "|945eda64-60a9-42b3-8107-0d4079f3e829|Michael Caldwell |Bronze          |Europe             |['c6a8ccc6-a3b4-47b1-a0f3-ba1737d455a6', '5db2f9ca-0d08-4ceb-9d34-d195ee4ce7b8', '3162c643-b57c-4090-9339-b151d89fbf08', '145006e5-3513-4ef1-80dc-e8e5df4dbc7d', 'e45f030c-1585-4c10-85b2-00addcd5be51', 'f513f2dc-61ca-4a13-a633-b5bf5279b2e5', '75e48834-fead-40ec-871f-55855668804b']                                                                                                                        |\n",
            "|74357e5f-0266-496f-b584-fd5addfbb658|Angela Wells     |Gold            |North America      |['7d36bb88-9293-4b7e-9736-f6f86795441c', 'f31dc83d-aad6-4fc0-92a5-0f8b5045a016', 'b031a250-d23b-4756-a2b7-985d1c6d276b', '134f3f41-6dc2-45c3-bf3b-509c72f14e92', 'f8f03a17-2de4-4b51-be9b-f699b4262379', '03950a59-2259-4037-9b62-eacd916001a8', 'b25265b1-d2d4-494b-b316-23d352967b14', '2741c5d4-c8c7-496f-bd11-bd5b54704079', '42d7b9cb-cb28-4696-b8bd-85e9ff6b8dc0', 'df14cb36-f643-4eaf-878a-bcebc8c3e760']|\n",
            "|2ce1364a-8ea1-4ad1-be26-804333fa287c|Michael Casey    |Bronze          |Europe             |['413fc1b5-9811-4e99-a6af-d598b5faa60e', '21d79083-7f91-405b-b82b-b2a4514b2cdc', 'fb95bde6-8f24-41bf-84a9-02fef0a8d8f2', '9299d6a2-0241-40f1-9b7f-bd5c4533ca70', '61f11b56-e83c-4866-a533-6142084f6d10', '4389a6f2-4c88-44cf-a243-001addf94558', '730a2922-35b8-4565-8e7d-322739deecbb', '0dae4599-cbf9-41c5-ae0e-679af477a052', '04c978cd-557f-43ce-82ba-9bb993c7a2b9', 'e9f5881a-c818-41d0-8e55-22ac00adfc32']|\n",
            "|1c5580a6-01a1-47df-a6b1-ed4f632b85e0|Kristin Dunn     |Gold            |Asia               |['8d0983aa-f56e-450a-90c1-4a44357a8a0b', 'ea0aba16-7d97-4f7e-9c66-6d46d01adc83', '60cb53f7-4dc5-4c4e-8007-e5e0007c100e', 'fba48f13-6965-4090-a2a5-10d7462bd650', 'd16bf76e-08bd-4830-91c9-01e34573a0d4', 'e59ec4f9-718a-438d-b52f-8f93bc615b38']                                                                                                                                                                |\n",
            "|4aaada0f-fbcc-450f-a935-e9ed38fbe6fc|Ashley Anderson  |Silver          |Asia               |['f7940409-18af-455c-989f-6171c2d5e262', 'd6dc39b7-8d8a-4505-bf79-dc7c2e513611', '1ed76241-3173-4894-95b8-6b95b21ba793', '976a1948-69bd-43ab-a8eb-c9164edfcdfc', '4f961096-07f1-4bfd-98c1-29ec208da857', 'e9f1646c-3cb5-4687-ad89-59fbde0e00cb', '82c2ecb7-64f6-4f15-b9bd-8f7dedfdab95', '82a0101c-928f-4676-8de6-d9ba1824717e']                                                                                |\n",
            "+------------------------------------+-----------------+----------------+-------------------+----------------------------------------------------------------------------------------------------------------------------------------------------------------------------------------------------------------------------------------------------------------------------------------------------------------------------------------------------------------------------------------------------------------+\n",
            "only showing top 20 rows\n",
            "\n"
          ]
        }
      ]
    },
    {
      "cell_type": "code",
      "source": [
        "product_df.show(truncate = False)"
      ],
      "metadata": {
        "colab": {
          "base_uri": "https://localhost:8080/"
        },
        "id": "HM9K5N8ZyVaa",
        "outputId": "89e55032-ed2c-496a-a726-b08608b32035"
      },
      "execution_count": 26,
      "outputs": [
        {
          "output_type": "stream",
          "name": "stdout",
          "text": [
            "+------------------------------------+-----------+------------------------------------+--------+\n",
            "|product_id                          |description|attributes                          |tax_rate|\n",
            "+------------------------------------+-----------+------------------------------------+--------+\n",
            "|58d20dcb-b2f8-4e79-aea4-8fb6b818af94|Printer    |{'color': 'black', 'size': 'medium'}|0.1     |\n",
            "|03e17f8e-2bb9-4fa3-93d0-013253e8637e|Monitor    |{'color': 'black', 'size': 'medium'}|0.1     |\n",
            "|112b2485-fc04-45cc-b6c0-4533810dc2e0|Laptop     |{'color': 'black', 'size': 'medium'}|0.07    |\n",
            "|fd0e5773-8f7f-4304-b062-77ee4e0374f0|Printer    |{'color': 'white', 'size': 'small'} |0.07    |\n",
            "|7eeb70cf-dc59-4d41-a96c-c821ba7c4b60|Camera     |{'color': 'black', 'size': 'medium'}|0.1     |\n",
            "|026251ac-8973-4939-a7bf-e1f5c2798fdf|Camera     |{'color': 'red', 'size': 'large'}   |0.07    |\n",
            "|3108a79f-477f-4ca9-abb7-dc8b4360f76c|Headphones |{'color': 'blue', 'size': 'medium'} |0.1     |\n",
            "|9b43f55f-7372-4c77-bcce-8834afd3b050|Mouse      |{'color': 'blue', 'size': 'medium'} |0.2     |\n",
            "|d8ebcefe-f1f3-4678-9a2c-39139032eac6|Laptop     |{'color': 'red', 'size': 'large'}   |0.1     |\n",
            "|a652f9cc-7224-45e7-8ca5-a38508b4b60c|Tablet     |{'color': 'blue', 'size': 'medium'} |0.07    |\n",
            "|a8d8745a-fde1-4ca3-8e97-6a437e5a3fe5|Smartwatch |{'color': 'white', 'size': 'small'} |0.1     |\n",
            "|7b10d790-5b80-4126-a5e9-0085dfc8166f|Smartphone |{'color': 'white', 'size': 'small'} |0.2     |\n",
            "|b8dc1a04-4cbd-478f-a3b8-3f5abf011610|Keyboard   |{'color': 'blue', 'size': 'medium'} |0.2     |\n",
            "|fc0da310-ff4a-42a3-808b-905434dc2dc1|Smartphone |{'color': 'black', 'size': 'medium'}|0.07    |\n",
            "|7591d743-a250-4c46-9736-5b60628f2bab|Monitor    |{'color': 'white', 'size': 'small'} |0.15    |\n",
            "|c013105f-86f3-4f14-9a15-a00a6aaaab2a|Camera     |{'color': 'white', 'size': 'small'} |0.07    |\n",
            "|ca39d290-2f08-4231-8db7-f8ff9585e510|Smartphone |{'color': 'blue', 'size': 'medium'} |0.07    |\n",
            "|05335343-b677-465c-a285-5eae8f1cf667|Printer    |{'color': 'white', 'size': 'small'} |0.07    |\n",
            "|729e45a5-5c05-40db-8a5d-c589df5ebd74|Smartwatch |{'color': 'blue', 'size': 'medium'} |0.2     |\n",
            "|6bcac519-41fd-4443-a6da-d544502f4689|Smartphone |{'color': 'red', 'size': 'large'}   |0.15    |\n",
            "+------------------------------------+-----------+------------------------------------+--------+\n",
            "only showing top 20 rows\n",
            "\n"
          ]
        }
      ]
    },
    {
      "cell_type": "code",
      "source": [
        "###### denormalized promotion #######\n",
        "from pyspark.sql.functions import split, explode, regexp_replace\n",
        "\n",
        "# Assuming customer_df is your DataFrame\n",
        "# Remove brackets from the elements in the purchase_history array column\n",
        "promotion_df = promotion_df.withColumn(\"applicable_products_array\", split(regexp_replace(promotion_df[\"applicable_products\"], \"[\\[\\]]\", \"\"), \", \"))\n",
        "\n",
        "# Explode the purchase_history_array column to create separate rows for each element\n",
        "promotion_denormalized_df = promotion_df.select(\"promo_id\",\"prom_description\",\"discount\", explode(\"applicable_products_array\").alias(\"individual_applicable_product\"))\n",
        "\n",
        "# Show the denormalized DataFrame\n",
        "# promotion_denormalized_df.show(truncate=False)\n",
        "promotion_denormalized_df = promotion_denormalized_df.dropDuplicates(['individual_applicable_product'])\n",
        "promotion_denormalized_df.show(truncate=False)"
      ],
      "metadata": {
        "id": "eZSlhgpdshL5",
        "colab": {
          "base_uri": "https://localhost:8080/"
        },
        "outputId": "49dcf029-d9e9-45b1-e99c-6cffb95f2a85"
      },
      "execution_count": 27,
      "outputs": [
        {
          "output_type": "stream",
          "name": "stdout",
          "text": [
            "+------------------------------------+------------------------------------------------------------+--------+------------------------------------+\n",
            "|promo_id                            |prom_description                                            |discount|individual_applicable_product       |\n",
            "+------------------------------------+------------------------------------------------------------+--------+------------------------------------+\n",
            "|f9852fe7-092b-4a07-afb9-197991315f39|Give air smile.                                             |7.31    |00a96e1d-58c8-4a02-8abb-edc2fad7d0a0|\n",
            "|962a794f-1036-401c-a81b-6885af52f498|Probably Democrat majority floor possible that crime reason.|22.03   |00b79ea8-4b1a-4b96-8faf-d861f21e44e4|\n",
            "|022ea156-0b0e-4b36-984f-fb9715cc5f99|Allow employee official two focus go.                       |33.92   |015975f4-920a-460d-94ac-b6982de9e346|\n",
            "|d5a6488d-50a0-4c87-ab33-08a4f47f4f3a|Into watch animal along.                                    |37.69   |02075a09-a017-40ef-a72b-f67427fd1a7e|\n",
            "|cf384857-5fec-4649-80e2-731a30b69409|Happy account Mr state.                                     |7.51    |021dc9ff-7fd5-4f8e-a441-d659fdc91f9b|\n",
            "|6a6ed146-98b1-47f8-8ec2-6294a44e688e|Wrong produce be career successful.                         |12.01   |0235282e-c2e8-4206-afdf-d748326b062a|\n",
            "|1eb64d8d-2bee-46ee-88b3-adc277ff13c4|Cultural peace support glass represent character huge.      |16.36   |0252b1a3-00b5-4291-ba5f-0bd3f369dfb6|\n",
            "|acf242c2-d2bd-4672-bc4b-bc612d890da0|Ago note discussion degree discussion word institution.     |49.08   |026251ac-8973-4939-a7bf-e1f5c2798fdf|\n",
            "|7dee7e3f-4f07-4e47-916b-f88c56ac5250|National protect card step drive.                           |49.5    |03821915-e77c-41e2-865e-5b7c9b08b51a|\n",
            "|c969911e-130c-40cb-8a25-22711c84c30b|Tax art soon impact according behavior.                     |25.63   |03e17f8e-2bb9-4fa3-93d0-013253e8637e|\n",
            "|2d38ccda-b8da-47ef-a364-d0adb4276b46|Either fight career no never yeah.                          |9.47    |044128d3-0910-466f-90fb-e1d5b339f6fd|\n",
            "|32ddcf94-7c57-4191-a799-30e676ee3ab4|Indicate finally remain help.                               |31.38   |04f92996-74f7-4056-80ba-93fe3e079c35|\n",
            "|0b95f019-e3e5-49d0-a014-47b6d7160ff9|Pay price maintain amount.                                  |9.8     |05335343-b677-465c-a285-5eae8f1cf667|\n",
            "|f654c68a-c0b6-430f-8c52-840fab055b14|Remain professional among toward.                           |33.25   |05890bec-3a26-4f4e-8688-e169402beef6|\n",
            "|dbf24fda-bce2-4ff7-9136-496a75ca1c05|Win left unit operation morning change.                     |6.17    |05a4e3b4-ae65-4a2e-b6f7-49b467adf68e|\n",
            "|7e12aec9-f040-445f-9914-0fff6f7a736e|Test kitchen open physical answer improve husband.          |21.55   |0608ce7e-46be-4cd5-8284-361f16b6d3ec|\n",
            "|140cd4b7-a80b-4347-86e1-5ecee131f9c7|Travel thank Democrat head.                                 |10.38   |06421e68-6106-43bf-9d3b-798b10d7e620|\n",
            "|27b55f99-4047-45d8-88e2-3f8625d7898f|After quality main air cold ball.                           |12.35   |06f7e5b2-c047-49fd-be29-8834f0434953|\n",
            "|4a6dd949-7204-4d63-a531-2a08ff70db72|Democrat his week commercial.                               |21.92   |0849e964-c77c-49c7-8431-634b575312e9|\n",
            "|ffae02fd-2186-458d-88d4-58ed822f07e0|Tend high friend.                                           |6.85    |08538b5c-13e9-4099-8589-ff84148a999b|\n",
            "+------------------------------------+------------------------------------------------------------+--------+------------------------------------+\n",
            "only showing top 20 rows\n",
            "\n"
          ]
        }
      ]
    },
    {
      "cell_type": "code",
      "source": [
        "transaction_df.show(truncate=False)"
      ],
      "metadata": {
        "colab": {
          "base_uri": "https://localhost:8080/"
        },
        "id": "Ubl0HtdFshWQ",
        "outputId": "49e9eed5-9d13-4cda-df00-9957c418a8fd"
      },
      "execution_count": 28,
      "outputs": [
        {
          "output_type": "stream",
          "name": "stdout",
          "text": [
            "+------------------------------------+------------------------------------+----------+------------------------------------------------------------------------------------------------------------------------------------------------------------------------------------------------------------------------------------------------------------------------+\n",
            "|transaction_id                      |customer_id                         |date      |items                                                                                                                                                                                                                                                                   |\n",
            "+------------------------------------+------------------------------------+----------+------------------------------------------------------------------------------------------------------------------------------------------------------------------------------------------------------------------------------------------------------------------------+\n",
            "|07aca062-9c53-4070-b570-966f16e3eec8|e4604d2d-43e8-4a19-a129-1cdfa4a1cd3b|2023-04-19|[{'product_id': '8b2befbf-eb28-4585-8ef7-e4739386989b', 'quantity': 4, 'price': 18.17}, {'product_id': '7b243d1e-d199-41a2-a7b1-d2012b1434d5', 'quantity': 3, 'price': 496.3}]                                                                                          |\n",
            "|f5bd6e59-2f0d-4b6f-a8bc-6a09a5efcb8a|a029034a-a303-49cd-9e60-a75a6db54cea|2023-10-15|[{'product_id': '4e5b6c02-241f-478a-b040-067fad542260', 'quantity': 1, 'price': 82.97}]                                                                                                                                                                                 |\n",
            "|8305cbaa-d21a-4aa3-8cf5-1dec44d1a2b5|5d7e7af1-7b6b-4f88-a95e-1738a443b38b|2023-09-15|[{'product_id': '09bc2167-a3a1-40fc-8ec3-bc1724b6eedd', 'quantity': 2, 'price': 454.63}, {'product_id': '08538b5c-13e9-4099-8589-ff84148a999b', 'quantity': 3, 'price': 117.04}]                                                                                        |\n",
            "|55c1d26d-db29-43f2-b2de-925460f90eff|f3630b2a-62b9-4ce6-8cef-0ba9eb9b5cc7|2023-02-04|[{'product_id': '7b243d1e-d199-41a2-a7b1-d2012b1434d5', 'quantity': 5, 'price': 375.04}, {'product_id': 'a0ec4b81-97ff-40b0-9d42-a609e9da6b8c', 'quantity': 4, 'price': 488.64}]                                                                                        |\n",
            "|ebd6c70a-aa02-4333-8389-b54874060912|c52eac16-eba0-429f-8a8e-8d13677141b6|2023-06-11|[{'product_id': '7591d743-a250-4c46-9736-5b60628f2bab', 'quantity': 5, 'price': 390.04}]                                                                                                                                                                                |\n",
            "|bcb01d7b-914b-484b-bf0b-bf769320e3bc|1eb06210-11ae-42ba-9bcf-a26696ccdc22|2023-01-11|[{'product_id': '2d651032-6679-4be8-bdd5-f60d4eeab91b', 'quantity': 1, 'price': 280.42}]                                                                                                                                                                                |\n",
            "|351b889b-1e53-4f78-b7f0-c11453cbb2bd|bab078b9-cf4c-4323-97db-6eceae3a4f29|2023-02-23|[{'product_id': 'b6ad5a2c-e6f2-444a-aad0-ed9351ab23da', 'quantity': 3, 'price': 270.28}, {'product_id': 'ded9516e-ecdc-47a7-bb6f-01fd9a49b8a9', 'quantity': 2, 'price': 340.55}, {'product_id': 'f9ed46a6-a293-4207-a1f6-ee55cbd509a1', 'quantity': 3, 'price': 221.62}]|\n",
            "|f50494d4-9f06-4090-9ac4-71642b980db3|90505d59-fc41-4536-9869-b1e932058262|2023-10-22|[{'product_id': '52f34661-2819-4ea9-b8af-1dce9c32618d', 'quantity': 2, 'price': 378.24}]                                                                                                                                                                                |\n",
            "|f14933db-0e6b-48e3-8630-6c106053e8d8|93ebaa94-8b90-490f-9c3e-8d89ec002d75|2023-02-19|[{'product_id': 'db76c25e-6aca-460a-85d3-2f230816d632', 'quantity': 1, 'price': 438.15}, {'product_id': 'a3079f21-bf02-4ad1-b4e5-8f7b7184851e', 'quantity': 1, 'price': 364.83}]                                                                                        |\n",
            "|d9e5bc38-e5f7-4820-b66c-9732aaf871e6|c1ebf4e9-5acb-41a9-8eef-1740a5cb5a3b|2023-10-15|[{'product_id': '390651df-3687-449a-823b-4b1133a7af27', 'quantity': 3, 'price': 33.76}, {'product_id': '00b79ea8-4b1a-4b96-8faf-d861f21e44e4', 'quantity': 2, 'price': 464.15}, {'product_id': '19844677-3287-41f8-aa52-2c0914797041', 'quantity': 3, 'price': 78.13}]  |\n",
            "|b87a9e42-2613-4720-b85c-e090e8fd7a64|14cb0c73-cba0-4ebc-bf11-336df879d8af|2023-08-31|[{'product_id': '9cbe19fb-bf33-4006-887f-4f988e78960f', 'quantity': 4, 'price': 443.95}]                                                                                                                                                                                |\n",
            "|2b63f6bf-a06b-4ef7-9238-79e0e8aa2fdf|945eda64-60a9-42b3-8107-0d4079f3e829|2023-07-20|[{'product_id': '738b0f11-3dbf-4b3e-acf8-7666dc84ac84', 'quantity': 1, 'price': 90.77}, {'product_id': 'e1944cf1-df93-4bab-96ee-b16d64b08746', 'quantity': 4, 'price': 143.86}]                                                                                         |\n",
            "|f8e3b1dc-e514-43b5-9790-31d26260dcd2|557dda1c-4f81-47d3-87f9-522ec8d6df15|2023-10-05|[{'product_id': 'b6ad5a2c-e6f2-444a-aad0-ed9351ab23da', 'quantity': 3, 'price': 224.31}]                                                                                                                                                                                |\n",
            "|cb267b2d-5796-48cd-9bce-68333fd28d2b|122d1ec5-58e5-4d0a-963b-b1c187168e34|2023-01-31|[{'product_id': '30bae78d-8471-44b0-881d-11b69ee2c040', 'quantity': 3, 'price': 345.74}, {'product_id': '2e309e9b-1891-4938-9ec5-b39ae5418a04', 'quantity': 2, 'price': 133.88}]                                                                                        |\n",
            "|6fe0dabd-484f-4a5a-a585-67947ae5593d|2a64b4c2-1122-40ea-992c-c2d77ef2dd39|2023-01-07|[{'product_id': 'ca39d290-2f08-4231-8db7-f8ff9585e510', 'quantity': 5, 'price': 146.84}]                                                                                                                                                                                |\n",
            "|9447efd4-2cf1-4aa1-8806-95772c5c7dfb|e4d8a300-2456-43f7-8854-8d9ffbc44b13|2023-04-14|[{'product_id': '438a210e-64e3-456d-b99b-4d0dee79a896', 'quantity': 5, 'price': 486.25}]                                                                                                                                                                                |\n",
            "|73c9aa33-55c5-4868-8431-e66d37d2c827|05291c96-dbbd-4702-ad92-e4a674bc6bf8|2023-06-19|[{'product_id': '5752054c-dee8-4327-939d-4aab92dfd646', 'quantity': 5, 'price': 207.9}]                                                                                                                                                                                 |\n",
            "|a2c8002e-0223-4cae-be07-a15ec201b761|ecf78e9c-f502-4926-8204-6cd4f19cf401|2023-05-30|[{'product_id': '2a0e374f-6a09-4c0d-b2bc-72faa6e2f917', 'quantity': 1, 'price': 92.6}, {'product_id': '4e86faaf-0058-4f06-828a-790436697b9b', 'quantity': 5, 'price': 34.01}]                                                                                           |\n",
            "|ce18038f-0379-46d1-8a58-c2357eb6d77d|d529d9dd-f0b0-4963-bc09-da56778d75cf|2023-01-31|[{'product_id': 'a652f9cc-7224-45e7-8ca5-a38508b4b60c', 'quantity': 4, 'price': 430.64}, {'product_id': '8e77ea75-e31b-4163-9663-807b4df7079d', 'quantity': 1, 'price': 440.89}, {'product_id': '2bc03730-9b0e-4471-8985-fdb921eeca20', 'quantity': 1, 'price': 335.28}]|\n",
            "|3c3e5525-dc23-448f-a913-b1b73ecf39d9|a1a3e644-3fab-4adc-a5a1-56d428476bc0|2023-12-05|[{'product_id': '6f093da2-dfe6-41cb-a13b-6c7292da8ea8', 'quantity': 1, 'price': 203.01}]                                                                                                                                                                                |\n",
            "+------------------------------------+------------------------------------+----------+------------------------------------------------------------------------------------------------------------------------------------------------------------------------------------------------------------------------------------------------------------------------+\n",
            "only showing top 20 rows\n",
            "\n"
          ]
        }
      ]
    },
    {
      "cell_type": "markdown",
      "source": [
        "#Data Modelling"
      ],
      "metadata": {
        "id": "CyOKgZ5anlsY"
      }
    },
    {
      "cell_type": "markdown",
      "source": [
        "###step:-1 Merging customer and transaction table"
      ],
      "metadata": {
        "id": "3OzyMLKKnp4v"
      }
    },
    {
      "cell_type": "code",
      "source": [
        "cust_trans_df = customer_df.join(transaction_df, customer_df[\"customer_id\"] == transaction_df[\"customer_id\"], \"left\") \\\n",
        "            .select(customer_df[\"customer_id\"], customer_df[\"name\"], customer_df[\"membership_level\"], customer_df[\"geographical_region\"], customer_df[\"purchase_history\"],\n",
        "                   transaction_df['transaction_id'],transaction_df['date'],transaction_df['items'])\n",
        "\n",
        "cust_trans_df.show(truncate=False),cust_trans_df.count()"
      ],
      "metadata": {
        "colab": {
          "base_uri": "https://localhost:8080/"
        },
        "id": "TSFgHR3-vUaQ",
        "outputId": "c242a626-6144-4f6d-9abd-4e66d7c4f402"
      },
      "execution_count": 29,
      "outputs": [
        {
          "output_type": "stream",
          "name": "stdout",
          "text": [
            "+------------------------------------+-----------------+----------------+-------------------+--------------------------------------------------------------------------------------------------------------------------------------------------------------------------------------------------------------------------------------------------------------------------------------------------------------------------------+------------------------------------+----------+-----------------------------------------------------------------------------------------------------------------------------------------------------------------------------------------------------------------------------------------------------------------------+\n",
            "|customer_id                         |name             |membership_level|geographical_region|purchase_history                                                                                                                                                                                                                                                                                                                |transaction_id                      |date      |items                                                                                                                                                                                                                                                                  |\n",
            "+------------------------------------+-----------------+----------------+-------------------+--------------------------------------------------------------------------------------------------------------------------------------------------------------------------------------------------------------------------------------------------------------------------------------------------------------------------------+------------------------------------+----------+-----------------------------------------------------------------------------------------------------------------------------------------------------------------------------------------------------------------------------------------------------------------------+\n",
            "|9742cbb9-c28e-47de-b2db-f02776e70b85|Francisco Patel  |Gold            |North America      |['d5dc3b47-3242-43d1-9cc7-5b2211cbe15a', '2a116c4b-af48-46db-ae5b-fb7261dfe215', '777a1db1-3761-489e-a8b1-be13191c4039', '1b92e367-c627-4713-afb2-ba58411e8766', 'e117f4ae-c11f-4e11-8e1c-b93c154445e8']                                                                                                                        |dbc5a987-9746-41f8-b15d-ffce1694403a|2023-08-23|[{'product_id': 'a6f80668-73a3-4f67-8fdc-f060967e2969', 'quantity': 3, 'price': 472.44}, {'product_id': '8c3151ae-2961-4c3a-aa77-1060846aa4a9', 'quantity': 3, 'price': 227.19}]                                                                                       |\n",
            "|655db238-14e9-42b8-9579-f93e4a1674a7|Charles Burton   |Gold            |Asia               |['aa9d902d-ec82-4c46-80ca-78818441a6d0']                                                                                                                                                                                                                                                                                        |3339dc37-ac33-4a86-9ce4-58390ab76c42|2023-09-19|[{'product_id': 'f6314c87-f117-4dbb-9566-4739d9b6e610', 'quantity': 2, 'price': 33.44}]                                                                                                                                                                                |\n",
            "|655db238-14e9-42b8-9579-f93e4a1674a7|Charles Burton   |Gold            |Asia               |['aa9d902d-ec82-4c46-80ca-78818441a6d0']                                                                                                                                                                                                                                                                                        |c7701702-1bcf-41d7-93f0-9262bfe65662|2023-03-02|[{'product_id': '7eeb70cf-dc59-4d41-a96c-c821ba7c4b60', 'quantity': 2, 'price': 420.0}, {'product_id': '458c4344-3db7-4f3f-9c95-e9bc3206dab0', 'quantity': 2, 'price': 366.5}]                                                                                         |\n",
            "|655db238-14e9-42b8-9579-f93e4a1674a7|Charles Burton   |Gold            |Asia               |['aa9d902d-ec82-4c46-80ca-78818441a6d0']                                                                                                                                                                                                                                                                                        |5c3eaa1e-2271-4bf6-bafb-6c4dae0b9be0|2023-11-24|[{'product_id': '5b2949ae-8ace-4d69-abc2-b52a7c430ae8', 'quantity': 2, 'price': 29.35}, {'product_id': '5846d468-74c7-4fde-9d15-d12721661afd', 'quantity': 5, 'price': 381.72}, {'product_id': '9cbe19fb-bf33-4006-887f-4f988e78960f', 'quantity': 2, 'price': 133.59}]|\n",
            "|efc925cb-f306-48d9-ac2b-9ddda0fc095f|Donna Dickson    |Gold            |Europe             |['84f738d0-d0ac-42f8-a863-b6df1d476aa3']                                                                                                                                                                                                                                                                                        |1a1392c9-0d07-484a-91f0-43603b657c41|2023-08-17|[{'product_id': '5a3754a5-c2d2-4bd9-87fe-90c7cc701fab', 'quantity': 3, 'price': 315.17}, {'product_id': 'a1c82576-98b0-406d-8a24-87f63a03096c', 'quantity': 3, 'price': 280.47}]                                                                                       |\n",
            "|efc925cb-f306-48d9-ac2b-9ddda0fc095f|Donna Dickson    |Gold            |Europe             |['84f738d0-d0ac-42f8-a863-b6df1d476aa3']                                                                                                                                                                                                                                                                                        |b1767fa6-7adf-410d-be50-c6e0849104f1|2023-06-30|[{'product_id': '6f093da2-dfe6-41cb-a13b-6c7292da8ea8', 'quantity': 4, 'price': 306.79}]                                                                                                                                                                               |\n",
            "|efc925cb-f306-48d9-ac2b-9ddda0fc095f|Donna Dickson    |Gold            |Europe             |['84f738d0-d0ac-42f8-a863-b6df1d476aa3']                                                                                                                                                                                                                                                                                        |41952c68-2ff9-4014-9433-1783bcc786eb|2023-04-07|[{'product_id': 'f79b2a9c-3a30-4bbf-b1f5-dff4c0f54fd6', 'quantity': 2, 'price': 150.61}]                                                                                                                                                                               |\n",
            "|4a2168d7-170a-4d83-a97f-0b28283ecb22|Tara Williams    |Silver          |North America      |['1a5919e6-50f7-45e9-9c97-24676a10192c', 'be40d076-8fb2-48a5-9358-4937c57c71c1', '1f345b78-7c89-4069-b9f5-4a59c375b2d5', '917b2d10-6e50-4d25-ac3a-ee8a12a7de46', '8453ae37-b49c-4daf-9285-198a396eb7e9']                                                                                                                        |a07a3bad-c0b8-4ff6-b4c1-c478e4ff77aa|2023-08-09|[{'product_id': '47c2daa6-19a7-4864-91a4-8364b246d69d', 'quantity': 1, 'price': 39.4}]                                                                                                                                                                                 |\n",
            "|4a2168d7-170a-4d83-a97f-0b28283ecb22|Tara Williams    |Silver          |North America      |['1a5919e6-50f7-45e9-9c97-24676a10192c', 'be40d076-8fb2-48a5-9358-4937c57c71c1', '1f345b78-7c89-4069-b9f5-4a59c375b2d5', '917b2d10-6e50-4d25-ac3a-ee8a12a7de46', '8453ae37-b49c-4daf-9285-198a396eb7e9']                                                                                                                        |a4c1659d-5c83-47e4-a6d6-3a8f9c1b104b|2023-10-31|[{'product_id': '3de766c3-350a-4b22-bf69-8cb190141ac1', 'quantity': 5, 'price': 334.77}]                                                                                                                                                                               |\n",
            "|4a2168d7-170a-4d83-a97f-0b28283ecb22|Tara Williams    |Silver          |North America      |['1a5919e6-50f7-45e9-9c97-24676a10192c', 'be40d076-8fb2-48a5-9358-4937c57c71c1', '1f345b78-7c89-4069-b9f5-4a59c375b2d5', '917b2d10-6e50-4d25-ac3a-ee8a12a7de46', '8453ae37-b49c-4daf-9285-198a396eb7e9']                                                                                                                        |aae93a5d-d33f-4927-a739-7ecac8beb31b|2023-10-09|[{'product_id': 'dc774f23-b4cc-49a5-a11b-ee2b73b02b43', 'quantity': 2, 'price': 84.91}]                                                                                                                                                                                |\n",
            "|8619066f-21d0-409b-a673-256c34121c94|Richard Duran    |Silver          |Australia          |['5c1e9cd9-4f01-4d5b-b0e7-2bfc1cf39aef', 'fb9999d0-37e8-4147-9f2c-1fd95f956aad', '0d00fc7e-1cfe-4435-8809-d51becab810d', '97d5dedc-4697-481a-bb64-3eaf41248d76', '5c9ccb16-99fb-4b01-bda2-16fe8e466ea6']                                                                                                                        |e346b3d2-fb2e-406c-a05a-5ba67ffbbbd6|2023-01-16|[{'product_id': '9c7a55e4-ffdf-4da5-8713-9256f5a3d8a8', 'quantity': 1, 'price': 459.64}, {'product_id': '4e5b6c02-241f-478a-b040-067fad542260', 'quantity': 3, 'price': 115.16}]                                                                                       |\n",
            "|8619066f-21d0-409b-a673-256c34121c94|Richard Duran    |Silver          |Australia          |['5c1e9cd9-4f01-4d5b-b0e7-2bfc1cf39aef', 'fb9999d0-37e8-4147-9f2c-1fd95f956aad', '0d00fc7e-1cfe-4435-8809-d51becab810d', '97d5dedc-4697-481a-bb64-3eaf41248d76', '5c9ccb16-99fb-4b01-bda2-16fe8e466ea6']                                                                                                                        |b2fcc94c-19c8-4975-b1b6-8dd2574c5591|2023-12-27|[{'product_id': 'bd20187a-f13f-4ba1-b71d-f14078273c63', 'quantity': 3, 'price': 266.44}, {'product_id': 'ae2ddc58-0f2a-43ca-af05-7bca69fbf552', 'quantity': 1, 'price': 236.45}, {'product_id': '7750a4cd-e8ec-4396-a598-9b40e6c44ba0', 'quantity': 1, 'price': 53.64}]|\n",
            "|8619066f-21d0-409b-a673-256c34121c94|Richard Duran    |Silver          |Australia          |['5c1e9cd9-4f01-4d5b-b0e7-2bfc1cf39aef', 'fb9999d0-37e8-4147-9f2c-1fd95f956aad', '0d00fc7e-1cfe-4435-8809-d51becab810d', '97d5dedc-4697-481a-bb64-3eaf41248d76', '5c9ccb16-99fb-4b01-bda2-16fe8e466ea6']                                                                                                                        |78cdd63c-5811-4ce2-b491-b4e99c4b8545|2023-03-06|[{'product_id': '6a47da94-db84-4b33-80f6-a95a302659e1', 'quantity': 1, 'price': 495.96}, {'product_id': 'd279e89c-74ec-41dc-b2bc-53883cbd63ae', 'quantity': 3, 'price': 245.2}, {'product_id': 'c0641b90-595f-4b18-aab6-301622b95da8', 'quantity': 2, 'price': 96.64}] |\n",
            "|c39195c1-113f-40f5-bb66-8c638c7d74e7|Christina Osborne|Gold            |Australia          |['a0b2fd73-636f-48fc-89af-ae9ed0aefb2e', 'fd75f8ae-ed01-4130-9730-1b325d655135', '4e6d9bcd-3b37-48ae-b6ee-e543b9d570a7']                                                                                                                                                                                                        |44b97271-e9c9-4c50-9d1a-cc0a029bb3c8|2023-06-04|[{'product_id': '14a12b7b-30ed-4b8e-9a18-43391455aa70', 'quantity': 2, 'price': 10.58}, {'product_id': 'd3cf2a12-844b-49d6-8c71-16e677908992', 'quantity': 1, 'price': 341.17}]                                                                                        |\n",
            "|c39195c1-113f-40f5-bb66-8c638c7d74e7|Christina Osborne|Gold            |Australia          |['a0b2fd73-636f-48fc-89af-ae9ed0aefb2e', 'fd75f8ae-ed01-4130-9730-1b325d655135', '4e6d9bcd-3b37-48ae-b6ee-e543b9d570a7']                                                                                                                                                                                                        |f048934f-cbdb-4b49-97a4-2740bc81f12d|2023-05-16|[{'product_id': '466ba1c6-7326-4dd9-aa63-5180f426bca8', 'quantity': 2, 'price': 345.62}, {'product_id': 'd699a694-9770-4a7c-af39-4634f2cf86af', 'quantity': 4, 'price': 418.82}]                                                                                       |\n",
            "|c39195c1-113f-40f5-bb66-8c638c7d74e7|Christina Osborne|Gold            |Australia          |['a0b2fd73-636f-48fc-89af-ae9ed0aefb2e', 'fd75f8ae-ed01-4130-9730-1b325d655135', '4e6d9bcd-3b37-48ae-b6ee-e543b9d570a7']                                                                                                                                                                                                        |66ea1429-30a5-421e-8cf2-a7b88b3a8795|2023-08-17|[{'product_id': '52f34661-2819-4ea9-b8af-1dce9c32618d', 'quantity': 5, 'price': 61.05}, {'product_id': '09bc2167-a3a1-40fc-8ec3-bc1724b6eedd', 'quantity': 3, 'price': 191.63}, {'product_id': '8798dcf5-be1b-4f3f-a1ff-6009a3911518', 'quantity': 2, 'price': 108.09}]|\n",
            "|1e6be13a-b22c-4bb7-bfaa-4f4e258d779a|Madeline Adams   |Bronze          |Asia               |['aa716a26-e5c5-4af1-bbd3-7549d8c7600d', '5ee863e4-6f41-4dc1-93cb-275772c234a4', '5d368174-85a5-472d-b0ab-edd22659f6c4', '24a813e4-4506-4694-aff2-bd3fc74547ab', 'a075098e-45c6-42a8-9b1f-151e0af36274', 'dcf2a697-a8df-4289-af58-b04cddf1c139', 'ba11100f-76a9-4688-8985-43042f14b75b', 'ffb70a21-8fe2-4ddc-8156-73260a12c725']|89902e92-de81-476c-82f9-806dda6f3b8b|2023-02-21|[{'product_id': '110323d8-fe98-46c5-b767-7eb571651b39', 'quantity': 5, 'price': 360.1}, {'product_id': '4fd7c4a7-0eda-4a9a-a678-d05e20319c84', 'quantity': 5, 'price': 253.88}]                                                                                        |\n",
            "|590d5911-17eb-40b0-8d76-8b106e130479|Patricia Cox     |Silver          |Europe             |['73c0c4f8-037e-4acd-8463-531e38a2edf7', '1100dba2-4c38-43ad-883a-0a7b10a2cd69', '4c641ded-d6cc-41bf-aedf-b3517148e2f3']                                                                                                                                                                                                        |f72dc089-2c07-43d0-b01b-9baa9b1e1f56|2023-01-18|[{'product_id': 'c57b6880-5f4b-4d1a-8668-b8883eaaa009', 'quantity': 3, 'price': 175.3}, {'product_id': 'b7bf0af4-1056-4ab7-ac7b-8b281b213e35', 'quantity': 3, 'price': 406.15}]                                                                                        |\n",
            "|590d5911-17eb-40b0-8d76-8b106e130479|Patricia Cox     |Silver          |Europe             |['73c0c4f8-037e-4acd-8463-531e38a2edf7', '1100dba2-4c38-43ad-883a-0a7b10a2cd69', '4c641ded-d6cc-41bf-aedf-b3517148e2f3']                                                                                                                                                                                                        |c88b2547-1ed7-4b36-ab06-6658533c60ac|2023-06-13|[{'product_id': '5752054c-dee8-4327-939d-4aab92dfd646', 'quantity': 4, 'price': 256.87}, {'product_id': 'd827c47e-52ba-4c4c-b3b6-a42bca0e109c', 'quantity': 5, 'price': 15.28}]                                                                                        |\n",
            "|590d5911-17eb-40b0-8d76-8b106e130479|Patricia Cox     |Silver          |Europe             |['73c0c4f8-037e-4acd-8463-531e38a2edf7', '1100dba2-4c38-43ad-883a-0a7b10a2cd69', '4c641ded-d6cc-41bf-aedf-b3517148e2f3']                                                                                                                                                                                                        |7842155e-d085-430a-9a0f-40689ce235ef|2023-03-04|[{'product_id': 'a8cc046a-f7d2-4221-b90f-1b1104d36317', 'quantity': 2, 'price': 133.08}, {'product_id': '2bc03730-9b0e-4471-8985-fdb921eeca20', 'quantity': 4, 'price': 114.41}]                                                                                       |\n",
            "+------------------------------------+-----------------+----------------+-------------------+--------------------------------------------------------------------------------------------------------------------------------------------------------------------------------------------------------------------------------------------------------------------------------------------------------------------------------+------------------------------------+----------+-----------------------------------------------------------------------------------------------------------------------------------------------------------------------------------------------------------------------------------------------------------------------+\n",
            "only showing top 20 rows\n",
            "\n"
          ]
        },
        {
          "output_type": "execute_result",
          "data": {
            "text/plain": [
              "(None, 3052)"
            ]
          },
          "metadata": {},
          "execution_count": 29
        }
      ]
    },
    {
      "cell_type": "code",
      "source": [],
      "metadata": {
        "id": "1sR38pAzpSJ-"
      },
      "execution_count": 32,
      "outputs": []
    },
    {
      "cell_type": "code",
      "source": [
        "from pyspark.sql.functions import explode, udf , when, col\n",
        "from pyspark.sql.types import ArrayType, StringType , MapType\n",
        "from ast import literal_eval\n",
        "\n",
        "\"\"\"The code is splittnig the itmes meta data into columns for ousr usecase\"\"\"\n",
        "\n",
        "cust_trans_df = cust_trans_df.withColumn(\"item_purchased\",\n",
        "                                        explode(\n",
        "                                            udf(lambda x: literal_eval(x) if x is not None else [], ArrayType(StringType()))\n",
        "                                            (cust_trans_df[\"items\"]))\n",
        "                                       )\n",
        "cust_trans_df.show(truncate=False)"
      ],
      "metadata": {
        "colab": {
          "base_uri": "https://localhost:8080/"
        },
        "id": "qIJdMEknshcL",
        "outputId": "8a4748bd-2f1c-4fa2-8696-4fee51838667"
      },
      "execution_count": 30,
      "outputs": [
        {
          "output_type": "stream",
          "name": "stdout",
          "text": [
            "+------------------------------------+---------------+----------------+-------------------+--------------------------------------------------------------------------------------------------------------------------------------------------------------------------------------------------------+------------------------------------+----------+-----------------------------------------------------------------------------------------------------------------------------------------------------------------------------------------------------------------------------------------------------------------------+---------------------------------------------------------------------------+\n",
            "|customer_id                         |name           |membership_level|geographical_region|purchase_history                                                                                                                                                                                        |transaction_id                      |date      |items                                                                                                                                                                                                                                                                  |item_purchased                                                             |\n",
            "+------------------------------------+---------------+----------------+-------------------+--------------------------------------------------------------------------------------------------------------------------------------------------------------------------------------------------------+------------------------------------+----------+-----------------------------------------------------------------------------------------------------------------------------------------------------------------------------------------------------------------------------------------------------------------------+---------------------------------------------------------------------------+\n",
            "|9742cbb9-c28e-47de-b2db-f02776e70b85|Francisco Patel|Gold            |North America      |['d5dc3b47-3242-43d1-9cc7-5b2211cbe15a', '2a116c4b-af48-46db-ae5b-fb7261dfe215', '777a1db1-3761-489e-a8b1-be13191c4039', '1b92e367-c627-4713-afb2-ba58411e8766', 'e117f4ae-c11f-4e11-8e1c-b93c154445e8']|dbc5a987-9746-41f8-b15d-ffce1694403a|2023-08-23|[{'product_id': 'a6f80668-73a3-4f67-8fdc-f060967e2969', 'quantity': 3, 'price': 472.44}, {'product_id': '8c3151ae-2961-4c3a-aa77-1060846aa4a9', 'quantity': 3, 'price': 227.19}]                                                                                       |{quantity=3, price=472.44, product_id=a6f80668-73a3-4f67-8fdc-f060967e2969}|\n",
            "|9742cbb9-c28e-47de-b2db-f02776e70b85|Francisco Patel|Gold            |North America      |['d5dc3b47-3242-43d1-9cc7-5b2211cbe15a', '2a116c4b-af48-46db-ae5b-fb7261dfe215', '777a1db1-3761-489e-a8b1-be13191c4039', '1b92e367-c627-4713-afb2-ba58411e8766', 'e117f4ae-c11f-4e11-8e1c-b93c154445e8']|dbc5a987-9746-41f8-b15d-ffce1694403a|2023-08-23|[{'product_id': 'a6f80668-73a3-4f67-8fdc-f060967e2969', 'quantity': 3, 'price': 472.44}, {'product_id': '8c3151ae-2961-4c3a-aa77-1060846aa4a9', 'quantity': 3, 'price': 227.19}]                                                                                       |{quantity=3, price=227.19, product_id=8c3151ae-2961-4c3a-aa77-1060846aa4a9}|\n",
            "|655db238-14e9-42b8-9579-f93e4a1674a7|Charles Burton |Gold            |Asia               |['aa9d902d-ec82-4c46-80ca-78818441a6d0']                                                                                                                                                                |3339dc37-ac33-4a86-9ce4-58390ab76c42|2023-09-19|[{'product_id': 'f6314c87-f117-4dbb-9566-4739d9b6e610', 'quantity': 2, 'price': 33.44}]                                                                                                                                                                                |{quantity=2, price=33.44, product_id=f6314c87-f117-4dbb-9566-4739d9b6e610} |\n",
            "|655db238-14e9-42b8-9579-f93e4a1674a7|Charles Burton |Gold            |Asia               |['aa9d902d-ec82-4c46-80ca-78818441a6d0']                                                                                                                                                                |c7701702-1bcf-41d7-93f0-9262bfe65662|2023-03-02|[{'product_id': '7eeb70cf-dc59-4d41-a96c-c821ba7c4b60', 'quantity': 2, 'price': 420.0}, {'product_id': '458c4344-3db7-4f3f-9c95-e9bc3206dab0', 'quantity': 2, 'price': 366.5}]                                                                                         |{quantity=2, price=420.0, product_id=7eeb70cf-dc59-4d41-a96c-c821ba7c4b60} |\n",
            "|655db238-14e9-42b8-9579-f93e4a1674a7|Charles Burton |Gold            |Asia               |['aa9d902d-ec82-4c46-80ca-78818441a6d0']                                                                                                                                                                |c7701702-1bcf-41d7-93f0-9262bfe65662|2023-03-02|[{'product_id': '7eeb70cf-dc59-4d41-a96c-c821ba7c4b60', 'quantity': 2, 'price': 420.0}, {'product_id': '458c4344-3db7-4f3f-9c95-e9bc3206dab0', 'quantity': 2, 'price': 366.5}]                                                                                         |{quantity=2, price=366.5, product_id=458c4344-3db7-4f3f-9c95-e9bc3206dab0} |\n",
            "|655db238-14e9-42b8-9579-f93e4a1674a7|Charles Burton |Gold            |Asia               |['aa9d902d-ec82-4c46-80ca-78818441a6d0']                                                                                                                                                                |5c3eaa1e-2271-4bf6-bafb-6c4dae0b9be0|2023-11-24|[{'product_id': '5b2949ae-8ace-4d69-abc2-b52a7c430ae8', 'quantity': 2, 'price': 29.35}, {'product_id': '5846d468-74c7-4fde-9d15-d12721661afd', 'quantity': 5, 'price': 381.72}, {'product_id': '9cbe19fb-bf33-4006-887f-4f988e78960f', 'quantity': 2, 'price': 133.59}]|{quantity=2, price=29.35, product_id=5b2949ae-8ace-4d69-abc2-b52a7c430ae8} |\n",
            "|655db238-14e9-42b8-9579-f93e4a1674a7|Charles Burton |Gold            |Asia               |['aa9d902d-ec82-4c46-80ca-78818441a6d0']                                                                                                                                                                |5c3eaa1e-2271-4bf6-bafb-6c4dae0b9be0|2023-11-24|[{'product_id': '5b2949ae-8ace-4d69-abc2-b52a7c430ae8', 'quantity': 2, 'price': 29.35}, {'product_id': '5846d468-74c7-4fde-9d15-d12721661afd', 'quantity': 5, 'price': 381.72}, {'product_id': '9cbe19fb-bf33-4006-887f-4f988e78960f', 'quantity': 2, 'price': 133.59}]|{quantity=5, price=381.72, product_id=5846d468-74c7-4fde-9d15-d12721661afd}|\n",
            "|655db238-14e9-42b8-9579-f93e4a1674a7|Charles Burton |Gold            |Asia               |['aa9d902d-ec82-4c46-80ca-78818441a6d0']                                                                                                                                                                |5c3eaa1e-2271-4bf6-bafb-6c4dae0b9be0|2023-11-24|[{'product_id': '5b2949ae-8ace-4d69-abc2-b52a7c430ae8', 'quantity': 2, 'price': 29.35}, {'product_id': '5846d468-74c7-4fde-9d15-d12721661afd', 'quantity': 5, 'price': 381.72}, {'product_id': '9cbe19fb-bf33-4006-887f-4f988e78960f', 'quantity': 2, 'price': 133.59}]|{quantity=2, price=133.59, product_id=9cbe19fb-bf33-4006-887f-4f988e78960f}|\n",
            "|efc925cb-f306-48d9-ac2b-9ddda0fc095f|Donna Dickson  |Gold            |Europe             |['84f738d0-d0ac-42f8-a863-b6df1d476aa3']                                                                                                                                                                |1a1392c9-0d07-484a-91f0-43603b657c41|2023-08-17|[{'product_id': '5a3754a5-c2d2-4bd9-87fe-90c7cc701fab', 'quantity': 3, 'price': 315.17}, {'product_id': 'a1c82576-98b0-406d-8a24-87f63a03096c', 'quantity': 3, 'price': 280.47}]                                                                                       |{quantity=3, price=315.17, product_id=5a3754a5-c2d2-4bd9-87fe-90c7cc701fab}|\n",
            "|efc925cb-f306-48d9-ac2b-9ddda0fc095f|Donna Dickson  |Gold            |Europe             |['84f738d0-d0ac-42f8-a863-b6df1d476aa3']                                                                                                                                                                |1a1392c9-0d07-484a-91f0-43603b657c41|2023-08-17|[{'product_id': '5a3754a5-c2d2-4bd9-87fe-90c7cc701fab', 'quantity': 3, 'price': 315.17}, {'product_id': 'a1c82576-98b0-406d-8a24-87f63a03096c', 'quantity': 3, 'price': 280.47}]                                                                                       |{quantity=3, price=280.47, product_id=a1c82576-98b0-406d-8a24-87f63a03096c}|\n",
            "|efc925cb-f306-48d9-ac2b-9ddda0fc095f|Donna Dickson  |Gold            |Europe             |['84f738d0-d0ac-42f8-a863-b6df1d476aa3']                                                                                                                                                                |b1767fa6-7adf-410d-be50-c6e0849104f1|2023-06-30|[{'product_id': '6f093da2-dfe6-41cb-a13b-6c7292da8ea8', 'quantity': 4, 'price': 306.79}]                                                                                                                                                                               |{quantity=4, price=306.79, product_id=6f093da2-dfe6-41cb-a13b-6c7292da8ea8}|\n",
            "|efc925cb-f306-48d9-ac2b-9ddda0fc095f|Donna Dickson  |Gold            |Europe             |['84f738d0-d0ac-42f8-a863-b6df1d476aa3']                                                                                                                                                                |41952c68-2ff9-4014-9433-1783bcc786eb|2023-04-07|[{'product_id': 'f79b2a9c-3a30-4bbf-b1f5-dff4c0f54fd6', 'quantity': 2, 'price': 150.61}]                                                                                                                                                                               |{quantity=2, price=150.61, product_id=f79b2a9c-3a30-4bbf-b1f5-dff4c0f54fd6}|\n",
            "|4a2168d7-170a-4d83-a97f-0b28283ecb22|Tara Williams  |Silver          |North America      |['1a5919e6-50f7-45e9-9c97-24676a10192c', 'be40d076-8fb2-48a5-9358-4937c57c71c1', '1f345b78-7c89-4069-b9f5-4a59c375b2d5', '917b2d10-6e50-4d25-ac3a-ee8a12a7de46', '8453ae37-b49c-4daf-9285-198a396eb7e9']|a07a3bad-c0b8-4ff6-b4c1-c478e4ff77aa|2023-08-09|[{'product_id': '47c2daa6-19a7-4864-91a4-8364b246d69d', 'quantity': 1, 'price': 39.4}]                                                                                                                                                                                 |{quantity=1, price=39.4, product_id=47c2daa6-19a7-4864-91a4-8364b246d69d}  |\n",
            "|4a2168d7-170a-4d83-a97f-0b28283ecb22|Tara Williams  |Silver          |North America      |['1a5919e6-50f7-45e9-9c97-24676a10192c', 'be40d076-8fb2-48a5-9358-4937c57c71c1', '1f345b78-7c89-4069-b9f5-4a59c375b2d5', '917b2d10-6e50-4d25-ac3a-ee8a12a7de46', '8453ae37-b49c-4daf-9285-198a396eb7e9']|a4c1659d-5c83-47e4-a6d6-3a8f9c1b104b|2023-10-31|[{'product_id': '3de766c3-350a-4b22-bf69-8cb190141ac1', 'quantity': 5, 'price': 334.77}]                                                                                                                                                                               |{quantity=5, price=334.77, product_id=3de766c3-350a-4b22-bf69-8cb190141ac1}|\n",
            "|4a2168d7-170a-4d83-a97f-0b28283ecb22|Tara Williams  |Silver          |North America      |['1a5919e6-50f7-45e9-9c97-24676a10192c', 'be40d076-8fb2-48a5-9358-4937c57c71c1', '1f345b78-7c89-4069-b9f5-4a59c375b2d5', '917b2d10-6e50-4d25-ac3a-ee8a12a7de46', '8453ae37-b49c-4daf-9285-198a396eb7e9']|aae93a5d-d33f-4927-a739-7ecac8beb31b|2023-10-09|[{'product_id': 'dc774f23-b4cc-49a5-a11b-ee2b73b02b43', 'quantity': 2, 'price': 84.91}]                                                                                                                                                                                |{quantity=2, price=84.91, product_id=dc774f23-b4cc-49a5-a11b-ee2b73b02b43} |\n",
            "|8619066f-21d0-409b-a673-256c34121c94|Richard Duran  |Silver          |Australia          |['5c1e9cd9-4f01-4d5b-b0e7-2bfc1cf39aef', 'fb9999d0-37e8-4147-9f2c-1fd95f956aad', '0d00fc7e-1cfe-4435-8809-d51becab810d', '97d5dedc-4697-481a-bb64-3eaf41248d76', '5c9ccb16-99fb-4b01-bda2-16fe8e466ea6']|e346b3d2-fb2e-406c-a05a-5ba67ffbbbd6|2023-01-16|[{'product_id': '9c7a55e4-ffdf-4da5-8713-9256f5a3d8a8', 'quantity': 1, 'price': 459.64}, {'product_id': '4e5b6c02-241f-478a-b040-067fad542260', 'quantity': 3, 'price': 115.16}]                                                                                       |{quantity=1, price=459.64, product_id=9c7a55e4-ffdf-4da5-8713-9256f5a3d8a8}|\n",
            "|8619066f-21d0-409b-a673-256c34121c94|Richard Duran  |Silver          |Australia          |['5c1e9cd9-4f01-4d5b-b0e7-2bfc1cf39aef', 'fb9999d0-37e8-4147-9f2c-1fd95f956aad', '0d00fc7e-1cfe-4435-8809-d51becab810d', '97d5dedc-4697-481a-bb64-3eaf41248d76', '5c9ccb16-99fb-4b01-bda2-16fe8e466ea6']|e346b3d2-fb2e-406c-a05a-5ba67ffbbbd6|2023-01-16|[{'product_id': '9c7a55e4-ffdf-4da5-8713-9256f5a3d8a8', 'quantity': 1, 'price': 459.64}, {'product_id': '4e5b6c02-241f-478a-b040-067fad542260', 'quantity': 3, 'price': 115.16}]                                                                                       |{quantity=3, price=115.16, product_id=4e5b6c02-241f-478a-b040-067fad542260}|\n",
            "|8619066f-21d0-409b-a673-256c34121c94|Richard Duran  |Silver          |Australia          |['5c1e9cd9-4f01-4d5b-b0e7-2bfc1cf39aef', 'fb9999d0-37e8-4147-9f2c-1fd95f956aad', '0d00fc7e-1cfe-4435-8809-d51becab810d', '97d5dedc-4697-481a-bb64-3eaf41248d76', '5c9ccb16-99fb-4b01-bda2-16fe8e466ea6']|b2fcc94c-19c8-4975-b1b6-8dd2574c5591|2023-12-27|[{'product_id': 'bd20187a-f13f-4ba1-b71d-f14078273c63', 'quantity': 3, 'price': 266.44}, {'product_id': 'ae2ddc58-0f2a-43ca-af05-7bca69fbf552', 'quantity': 1, 'price': 236.45}, {'product_id': '7750a4cd-e8ec-4396-a598-9b40e6c44ba0', 'quantity': 1, 'price': 53.64}]|{quantity=3, price=266.44, product_id=bd20187a-f13f-4ba1-b71d-f14078273c63}|\n",
            "|8619066f-21d0-409b-a673-256c34121c94|Richard Duran  |Silver          |Australia          |['5c1e9cd9-4f01-4d5b-b0e7-2bfc1cf39aef', 'fb9999d0-37e8-4147-9f2c-1fd95f956aad', '0d00fc7e-1cfe-4435-8809-d51becab810d', '97d5dedc-4697-481a-bb64-3eaf41248d76', '5c9ccb16-99fb-4b01-bda2-16fe8e466ea6']|b2fcc94c-19c8-4975-b1b6-8dd2574c5591|2023-12-27|[{'product_id': 'bd20187a-f13f-4ba1-b71d-f14078273c63', 'quantity': 3, 'price': 266.44}, {'product_id': 'ae2ddc58-0f2a-43ca-af05-7bca69fbf552', 'quantity': 1, 'price': 236.45}, {'product_id': '7750a4cd-e8ec-4396-a598-9b40e6c44ba0', 'quantity': 1, 'price': 53.64}]|{quantity=1, price=236.45, product_id=ae2ddc58-0f2a-43ca-af05-7bca69fbf552}|\n",
            "|8619066f-21d0-409b-a673-256c34121c94|Richard Duran  |Silver          |Australia          |['5c1e9cd9-4f01-4d5b-b0e7-2bfc1cf39aef', 'fb9999d0-37e8-4147-9f2c-1fd95f956aad', '0d00fc7e-1cfe-4435-8809-d51becab810d', '97d5dedc-4697-481a-bb64-3eaf41248d76', '5c9ccb16-99fb-4b01-bda2-16fe8e466ea6']|b2fcc94c-19c8-4975-b1b6-8dd2574c5591|2023-12-27|[{'product_id': 'bd20187a-f13f-4ba1-b71d-f14078273c63', 'quantity': 3, 'price': 266.44}, {'product_id': 'ae2ddc58-0f2a-43ca-af05-7bca69fbf552', 'quantity': 1, 'price': 236.45}, {'product_id': '7750a4cd-e8ec-4396-a598-9b40e6c44ba0', 'quantity': 1, 'price': 53.64}]|{quantity=1, price=53.64, product_id=7750a4cd-e8ec-4396-a598-9b40e6c44ba0} |\n",
            "+------------------------------------+---------------+----------------+-------------------+--------------------------------------------------------------------------------------------------------------------------------------------------------------------------------------------------------+------------------------------------+----------+-----------------------------------------------------------------------------------------------------------------------------------------------------------------------------------------------------------------------------------------------------------------------+---------------------------------------------------------------------------+\n",
            "only showing top 20 rows\n",
            "\n"
          ]
        }
      ]
    },
    {
      "cell_type": "code",
      "source": [
        "import re\n",
        "from pyspark.sql.types import StringType, MapType\n",
        "\n",
        "# Define a UDF to parse the nested record string into a dictionary\n",
        "def parse_nested_record(record):\n",
        "    if record:\n",
        "        record_dict = dict(re.findall(r'(\\w+)=([\\w\\.-]+)', record))\n",
        "        return record_dict\n",
        "    else:\n",
        "        return None\n",
        "\n",
        "parse_nested_record_udf = udf(parse_nested_record, MapType(StringType(), StringType()))\n",
        "\n",
        "# Apply the UDF to convert the nested record string to a dictionary\n",
        "cust_trans_df = cust_trans_df.withColumn(\"record_map\", parse_nested_record_udf(col(\"item_purchased\")))\n",
        "cust_trans_df = cust_trans_df.withColumn(\"product_id\", col(\"record_map\").getItem(\"product_id\"))\n",
        "cust_trans_df = cust_trans_df.withColumn(\"price\", col(\"record_map\").getItem(\"price\"))\n",
        "cust_trans_df = cust_trans_df.withColumn(\"quantity\", col(\"record_map\").getItem(\"quantity\"))\n",
        "\n",
        "cust_trans_df.show(truncate=False)"
      ],
      "metadata": {
        "colab": {
          "base_uri": "https://localhost:8080/"
        },
        "id": "HHjQNOEKThl-",
        "outputId": "9766f385-dea7-463d-f66d-b943e813fb6f"
      },
      "execution_count": 33,
      "outputs": [
        {
          "output_type": "stream",
          "name": "stdout",
          "text": [
            "+------------------------------------+---------------+----------------+-------------------+--------------------------------------------------------------------------------------------------------------------------------------------------------------------------------------------------------+------------------------------------+----------+-----------------------------------------------------------------------------------------------------------------------------------------------------------------------------------------------------------------------------------------------------------------------+---------------------------------------------------------------------------+------------------------------------------------------------------------------------+------------------------------------+------+--------+\n",
            "|customer_id                         |name           |membership_level|geographical_region|purchase_history                                                                                                                                                                                        |transaction_id                      |date      |items                                                                                                                                                                                                                                                                  |item_purchased                                                             |record_map                                                                          |product_id                          |price |quantity|\n",
            "+------------------------------------+---------------+----------------+-------------------+--------------------------------------------------------------------------------------------------------------------------------------------------------------------------------------------------------+------------------------------------+----------+-----------------------------------------------------------------------------------------------------------------------------------------------------------------------------------------------------------------------------------------------------------------------+---------------------------------------------------------------------------+------------------------------------------------------------------------------------+------------------------------------+------+--------+\n",
            "|9742cbb9-c28e-47de-b2db-f02776e70b85|Francisco Patel|Gold            |North America      |['d5dc3b47-3242-43d1-9cc7-5b2211cbe15a', '2a116c4b-af48-46db-ae5b-fb7261dfe215', '777a1db1-3761-489e-a8b1-be13191c4039', '1b92e367-c627-4713-afb2-ba58411e8766', 'e117f4ae-c11f-4e11-8e1c-b93c154445e8']|dbc5a987-9746-41f8-b15d-ffce1694403a|2023-08-23|[{'product_id': 'a6f80668-73a3-4f67-8fdc-f060967e2969', 'quantity': 3, 'price': 472.44}, {'product_id': '8c3151ae-2961-4c3a-aa77-1060846aa4a9', 'quantity': 3, 'price': 227.19}]                                                                                       |{quantity=3, price=472.44, product_id=a6f80668-73a3-4f67-8fdc-f060967e2969}|{quantity -> 3, price -> 472.44, product_id -> a6f80668-73a3-4f67-8fdc-f060967e2969}|a6f80668-73a3-4f67-8fdc-f060967e2969|472.44|3       |\n",
            "|9742cbb9-c28e-47de-b2db-f02776e70b85|Francisco Patel|Gold            |North America      |['d5dc3b47-3242-43d1-9cc7-5b2211cbe15a', '2a116c4b-af48-46db-ae5b-fb7261dfe215', '777a1db1-3761-489e-a8b1-be13191c4039', '1b92e367-c627-4713-afb2-ba58411e8766', 'e117f4ae-c11f-4e11-8e1c-b93c154445e8']|dbc5a987-9746-41f8-b15d-ffce1694403a|2023-08-23|[{'product_id': 'a6f80668-73a3-4f67-8fdc-f060967e2969', 'quantity': 3, 'price': 472.44}, {'product_id': '8c3151ae-2961-4c3a-aa77-1060846aa4a9', 'quantity': 3, 'price': 227.19}]                                                                                       |{quantity=3, price=227.19, product_id=8c3151ae-2961-4c3a-aa77-1060846aa4a9}|{quantity -> 3, price -> 227.19, product_id -> 8c3151ae-2961-4c3a-aa77-1060846aa4a9}|8c3151ae-2961-4c3a-aa77-1060846aa4a9|227.19|3       |\n",
            "|655db238-14e9-42b8-9579-f93e4a1674a7|Charles Burton |Gold            |Asia               |['aa9d902d-ec82-4c46-80ca-78818441a6d0']                                                                                                                                                                |3339dc37-ac33-4a86-9ce4-58390ab76c42|2023-09-19|[{'product_id': 'f6314c87-f117-4dbb-9566-4739d9b6e610', 'quantity': 2, 'price': 33.44}]                                                                                                                                                                                |{quantity=2, price=33.44, product_id=f6314c87-f117-4dbb-9566-4739d9b6e610} |{quantity -> 2, price -> 33.44, product_id -> f6314c87-f117-4dbb-9566-4739d9b6e610} |f6314c87-f117-4dbb-9566-4739d9b6e610|33.44 |2       |\n",
            "|655db238-14e9-42b8-9579-f93e4a1674a7|Charles Burton |Gold            |Asia               |['aa9d902d-ec82-4c46-80ca-78818441a6d0']                                                                                                                                                                |c7701702-1bcf-41d7-93f0-9262bfe65662|2023-03-02|[{'product_id': '7eeb70cf-dc59-4d41-a96c-c821ba7c4b60', 'quantity': 2, 'price': 420.0}, {'product_id': '458c4344-3db7-4f3f-9c95-e9bc3206dab0', 'quantity': 2, 'price': 366.5}]                                                                                         |{quantity=2, price=420.0, product_id=7eeb70cf-dc59-4d41-a96c-c821ba7c4b60} |{quantity -> 2, price -> 420.0, product_id -> 7eeb70cf-dc59-4d41-a96c-c821ba7c4b60} |7eeb70cf-dc59-4d41-a96c-c821ba7c4b60|420.0 |2       |\n",
            "|655db238-14e9-42b8-9579-f93e4a1674a7|Charles Burton |Gold            |Asia               |['aa9d902d-ec82-4c46-80ca-78818441a6d0']                                                                                                                                                                |c7701702-1bcf-41d7-93f0-9262bfe65662|2023-03-02|[{'product_id': '7eeb70cf-dc59-4d41-a96c-c821ba7c4b60', 'quantity': 2, 'price': 420.0}, {'product_id': '458c4344-3db7-4f3f-9c95-e9bc3206dab0', 'quantity': 2, 'price': 366.5}]                                                                                         |{quantity=2, price=366.5, product_id=458c4344-3db7-4f3f-9c95-e9bc3206dab0} |{quantity -> 2, price -> 366.5, product_id -> 458c4344-3db7-4f3f-9c95-e9bc3206dab0} |458c4344-3db7-4f3f-9c95-e9bc3206dab0|366.5 |2       |\n",
            "|655db238-14e9-42b8-9579-f93e4a1674a7|Charles Burton |Gold            |Asia               |['aa9d902d-ec82-4c46-80ca-78818441a6d0']                                                                                                                                                                |5c3eaa1e-2271-4bf6-bafb-6c4dae0b9be0|2023-11-24|[{'product_id': '5b2949ae-8ace-4d69-abc2-b52a7c430ae8', 'quantity': 2, 'price': 29.35}, {'product_id': '5846d468-74c7-4fde-9d15-d12721661afd', 'quantity': 5, 'price': 381.72}, {'product_id': '9cbe19fb-bf33-4006-887f-4f988e78960f', 'quantity': 2, 'price': 133.59}]|{quantity=2, price=29.35, product_id=5b2949ae-8ace-4d69-abc2-b52a7c430ae8} |{quantity -> 2, price -> 29.35, product_id -> 5b2949ae-8ace-4d69-abc2-b52a7c430ae8} |5b2949ae-8ace-4d69-abc2-b52a7c430ae8|29.35 |2       |\n",
            "|655db238-14e9-42b8-9579-f93e4a1674a7|Charles Burton |Gold            |Asia               |['aa9d902d-ec82-4c46-80ca-78818441a6d0']                                                                                                                                                                |5c3eaa1e-2271-4bf6-bafb-6c4dae0b9be0|2023-11-24|[{'product_id': '5b2949ae-8ace-4d69-abc2-b52a7c430ae8', 'quantity': 2, 'price': 29.35}, {'product_id': '5846d468-74c7-4fde-9d15-d12721661afd', 'quantity': 5, 'price': 381.72}, {'product_id': '9cbe19fb-bf33-4006-887f-4f988e78960f', 'quantity': 2, 'price': 133.59}]|{quantity=5, price=381.72, product_id=5846d468-74c7-4fde-9d15-d12721661afd}|{quantity -> 5, price -> 381.72, product_id -> 5846d468-74c7-4fde-9d15-d12721661afd}|5846d468-74c7-4fde-9d15-d12721661afd|381.72|5       |\n",
            "|655db238-14e9-42b8-9579-f93e4a1674a7|Charles Burton |Gold            |Asia               |['aa9d902d-ec82-4c46-80ca-78818441a6d0']                                                                                                                                                                |5c3eaa1e-2271-4bf6-bafb-6c4dae0b9be0|2023-11-24|[{'product_id': '5b2949ae-8ace-4d69-abc2-b52a7c430ae8', 'quantity': 2, 'price': 29.35}, {'product_id': '5846d468-74c7-4fde-9d15-d12721661afd', 'quantity': 5, 'price': 381.72}, {'product_id': '9cbe19fb-bf33-4006-887f-4f988e78960f', 'quantity': 2, 'price': 133.59}]|{quantity=2, price=133.59, product_id=9cbe19fb-bf33-4006-887f-4f988e78960f}|{quantity -> 2, price -> 133.59, product_id -> 9cbe19fb-bf33-4006-887f-4f988e78960f}|9cbe19fb-bf33-4006-887f-4f988e78960f|133.59|2       |\n",
            "|efc925cb-f306-48d9-ac2b-9ddda0fc095f|Donna Dickson  |Gold            |Europe             |['84f738d0-d0ac-42f8-a863-b6df1d476aa3']                                                                                                                                                                |1a1392c9-0d07-484a-91f0-43603b657c41|2023-08-17|[{'product_id': '5a3754a5-c2d2-4bd9-87fe-90c7cc701fab', 'quantity': 3, 'price': 315.17}, {'product_id': 'a1c82576-98b0-406d-8a24-87f63a03096c', 'quantity': 3, 'price': 280.47}]                                                                                       |{quantity=3, price=315.17, product_id=5a3754a5-c2d2-4bd9-87fe-90c7cc701fab}|{quantity -> 3, price -> 315.17, product_id -> 5a3754a5-c2d2-4bd9-87fe-90c7cc701fab}|5a3754a5-c2d2-4bd9-87fe-90c7cc701fab|315.17|3       |\n",
            "|efc925cb-f306-48d9-ac2b-9ddda0fc095f|Donna Dickson  |Gold            |Europe             |['84f738d0-d0ac-42f8-a863-b6df1d476aa3']                                                                                                                                                                |1a1392c9-0d07-484a-91f0-43603b657c41|2023-08-17|[{'product_id': '5a3754a5-c2d2-4bd9-87fe-90c7cc701fab', 'quantity': 3, 'price': 315.17}, {'product_id': 'a1c82576-98b0-406d-8a24-87f63a03096c', 'quantity': 3, 'price': 280.47}]                                                                                       |{quantity=3, price=280.47, product_id=a1c82576-98b0-406d-8a24-87f63a03096c}|{quantity -> 3, price -> 280.47, product_id -> a1c82576-98b0-406d-8a24-87f63a03096c}|a1c82576-98b0-406d-8a24-87f63a03096c|280.47|3       |\n",
            "|efc925cb-f306-48d9-ac2b-9ddda0fc095f|Donna Dickson  |Gold            |Europe             |['84f738d0-d0ac-42f8-a863-b6df1d476aa3']                                                                                                                                                                |b1767fa6-7adf-410d-be50-c6e0849104f1|2023-06-30|[{'product_id': '6f093da2-dfe6-41cb-a13b-6c7292da8ea8', 'quantity': 4, 'price': 306.79}]                                                                                                                                                                               |{quantity=4, price=306.79, product_id=6f093da2-dfe6-41cb-a13b-6c7292da8ea8}|{quantity -> 4, price -> 306.79, product_id -> 6f093da2-dfe6-41cb-a13b-6c7292da8ea8}|6f093da2-dfe6-41cb-a13b-6c7292da8ea8|306.79|4       |\n",
            "|efc925cb-f306-48d9-ac2b-9ddda0fc095f|Donna Dickson  |Gold            |Europe             |['84f738d0-d0ac-42f8-a863-b6df1d476aa3']                                                                                                                                                                |41952c68-2ff9-4014-9433-1783bcc786eb|2023-04-07|[{'product_id': 'f79b2a9c-3a30-4bbf-b1f5-dff4c0f54fd6', 'quantity': 2, 'price': 150.61}]                                                                                                                                                                               |{quantity=2, price=150.61, product_id=f79b2a9c-3a30-4bbf-b1f5-dff4c0f54fd6}|{quantity -> 2, price -> 150.61, product_id -> f79b2a9c-3a30-4bbf-b1f5-dff4c0f54fd6}|f79b2a9c-3a30-4bbf-b1f5-dff4c0f54fd6|150.61|2       |\n",
            "|4a2168d7-170a-4d83-a97f-0b28283ecb22|Tara Williams  |Silver          |North America      |['1a5919e6-50f7-45e9-9c97-24676a10192c', 'be40d076-8fb2-48a5-9358-4937c57c71c1', '1f345b78-7c89-4069-b9f5-4a59c375b2d5', '917b2d10-6e50-4d25-ac3a-ee8a12a7de46', '8453ae37-b49c-4daf-9285-198a396eb7e9']|a07a3bad-c0b8-4ff6-b4c1-c478e4ff77aa|2023-08-09|[{'product_id': '47c2daa6-19a7-4864-91a4-8364b246d69d', 'quantity': 1, 'price': 39.4}]                                                                                                                                                                                 |{quantity=1, price=39.4, product_id=47c2daa6-19a7-4864-91a4-8364b246d69d}  |{quantity -> 1, price -> 39.4, product_id -> 47c2daa6-19a7-4864-91a4-8364b246d69d}  |47c2daa6-19a7-4864-91a4-8364b246d69d|39.4  |1       |\n",
            "|4a2168d7-170a-4d83-a97f-0b28283ecb22|Tara Williams  |Silver          |North America      |['1a5919e6-50f7-45e9-9c97-24676a10192c', 'be40d076-8fb2-48a5-9358-4937c57c71c1', '1f345b78-7c89-4069-b9f5-4a59c375b2d5', '917b2d10-6e50-4d25-ac3a-ee8a12a7de46', '8453ae37-b49c-4daf-9285-198a396eb7e9']|a4c1659d-5c83-47e4-a6d6-3a8f9c1b104b|2023-10-31|[{'product_id': '3de766c3-350a-4b22-bf69-8cb190141ac1', 'quantity': 5, 'price': 334.77}]                                                                                                                                                                               |{quantity=5, price=334.77, product_id=3de766c3-350a-4b22-bf69-8cb190141ac1}|{quantity -> 5, price -> 334.77, product_id -> 3de766c3-350a-4b22-bf69-8cb190141ac1}|3de766c3-350a-4b22-bf69-8cb190141ac1|334.77|5       |\n",
            "|4a2168d7-170a-4d83-a97f-0b28283ecb22|Tara Williams  |Silver          |North America      |['1a5919e6-50f7-45e9-9c97-24676a10192c', 'be40d076-8fb2-48a5-9358-4937c57c71c1', '1f345b78-7c89-4069-b9f5-4a59c375b2d5', '917b2d10-6e50-4d25-ac3a-ee8a12a7de46', '8453ae37-b49c-4daf-9285-198a396eb7e9']|aae93a5d-d33f-4927-a739-7ecac8beb31b|2023-10-09|[{'product_id': 'dc774f23-b4cc-49a5-a11b-ee2b73b02b43', 'quantity': 2, 'price': 84.91}]                                                                                                                                                                                |{quantity=2, price=84.91, product_id=dc774f23-b4cc-49a5-a11b-ee2b73b02b43} |{quantity -> 2, price -> 84.91, product_id -> dc774f23-b4cc-49a5-a11b-ee2b73b02b43} |dc774f23-b4cc-49a5-a11b-ee2b73b02b43|84.91 |2       |\n",
            "|8619066f-21d0-409b-a673-256c34121c94|Richard Duran  |Silver          |Australia          |['5c1e9cd9-4f01-4d5b-b0e7-2bfc1cf39aef', 'fb9999d0-37e8-4147-9f2c-1fd95f956aad', '0d00fc7e-1cfe-4435-8809-d51becab810d', '97d5dedc-4697-481a-bb64-3eaf41248d76', '5c9ccb16-99fb-4b01-bda2-16fe8e466ea6']|e346b3d2-fb2e-406c-a05a-5ba67ffbbbd6|2023-01-16|[{'product_id': '9c7a55e4-ffdf-4da5-8713-9256f5a3d8a8', 'quantity': 1, 'price': 459.64}, {'product_id': '4e5b6c02-241f-478a-b040-067fad542260', 'quantity': 3, 'price': 115.16}]                                                                                       |{quantity=1, price=459.64, product_id=9c7a55e4-ffdf-4da5-8713-9256f5a3d8a8}|{quantity -> 1, price -> 459.64, product_id -> 9c7a55e4-ffdf-4da5-8713-9256f5a3d8a8}|9c7a55e4-ffdf-4da5-8713-9256f5a3d8a8|459.64|1       |\n",
            "|8619066f-21d0-409b-a673-256c34121c94|Richard Duran  |Silver          |Australia          |['5c1e9cd9-4f01-4d5b-b0e7-2bfc1cf39aef', 'fb9999d0-37e8-4147-9f2c-1fd95f956aad', '0d00fc7e-1cfe-4435-8809-d51becab810d', '97d5dedc-4697-481a-bb64-3eaf41248d76', '5c9ccb16-99fb-4b01-bda2-16fe8e466ea6']|e346b3d2-fb2e-406c-a05a-5ba67ffbbbd6|2023-01-16|[{'product_id': '9c7a55e4-ffdf-4da5-8713-9256f5a3d8a8', 'quantity': 1, 'price': 459.64}, {'product_id': '4e5b6c02-241f-478a-b040-067fad542260', 'quantity': 3, 'price': 115.16}]                                                                                       |{quantity=3, price=115.16, product_id=4e5b6c02-241f-478a-b040-067fad542260}|{quantity -> 3, price -> 115.16, product_id -> 4e5b6c02-241f-478a-b040-067fad542260}|4e5b6c02-241f-478a-b040-067fad542260|115.16|3       |\n",
            "|8619066f-21d0-409b-a673-256c34121c94|Richard Duran  |Silver          |Australia          |['5c1e9cd9-4f01-4d5b-b0e7-2bfc1cf39aef', 'fb9999d0-37e8-4147-9f2c-1fd95f956aad', '0d00fc7e-1cfe-4435-8809-d51becab810d', '97d5dedc-4697-481a-bb64-3eaf41248d76', '5c9ccb16-99fb-4b01-bda2-16fe8e466ea6']|b2fcc94c-19c8-4975-b1b6-8dd2574c5591|2023-12-27|[{'product_id': 'bd20187a-f13f-4ba1-b71d-f14078273c63', 'quantity': 3, 'price': 266.44}, {'product_id': 'ae2ddc58-0f2a-43ca-af05-7bca69fbf552', 'quantity': 1, 'price': 236.45}, {'product_id': '7750a4cd-e8ec-4396-a598-9b40e6c44ba0', 'quantity': 1, 'price': 53.64}]|{quantity=3, price=266.44, product_id=bd20187a-f13f-4ba1-b71d-f14078273c63}|{quantity -> 3, price -> 266.44, product_id -> bd20187a-f13f-4ba1-b71d-f14078273c63}|bd20187a-f13f-4ba1-b71d-f14078273c63|266.44|3       |\n",
            "|8619066f-21d0-409b-a673-256c34121c94|Richard Duran  |Silver          |Australia          |['5c1e9cd9-4f01-4d5b-b0e7-2bfc1cf39aef', 'fb9999d0-37e8-4147-9f2c-1fd95f956aad', '0d00fc7e-1cfe-4435-8809-d51becab810d', '97d5dedc-4697-481a-bb64-3eaf41248d76', '5c9ccb16-99fb-4b01-bda2-16fe8e466ea6']|b2fcc94c-19c8-4975-b1b6-8dd2574c5591|2023-12-27|[{'product_id': 'bd20187a-f13f-4ba1-b71d-f14078273c63', 'quantity': 3, 'price': 266.44}, {'product_id': 'ae2ddc58-0f2a-43ca-af05-7bca69fbf552', 'quantity': 1, 'price': 236.45}, {'product_id': '7750a4cd-e8ec-4396-a598-9b40e6c44ba0', 'quantity': 1, 'price': 53.64}]|{quantity=1, price=236.45, product_id=ae2ddc58-0f2a-43ca-af05-7bca69fbf552}|{quantity -> 1, price -> 236.45, product_id -> ae2ddc58-0f2a-43ca-af05-7bca69fbf552}|ae2ddc58-0f2a-43ca-af05-7bca69fbf552|236.45|1       |\n",
            "|8619066f-21d0-409b-a673-256c34121c94|Richard Duran  |Silver          |Australia          |['5c1e9cd9-4f01-4d5b-b0e7-2bfc1cf39aef', 'fb9999d0-37e8-4147-9f2c-1fd95f956aad', '0d00fc7e-1cfe-4435-8809-d51becab810d', '97d5dedc-4697-481a-bb64-3eaf41248d76', '5c9ccb16-99fb-4b01-bda2-16fe8e466ea6']|b2fcc94c-19c8-4975-b1b6-8dd2574c5591|2023-12-27|[{'product_id': 'bd20187a-f13f-4ba1-b71d-f14078273c63', 'quantity': 3, 'price': 266.44}, {'product_id': 'ae2ddc58-0f2a-43ca-af05-7bca69fbf552', 'quantity': 1, 'price': 236.45}, {'product_id': '7750a4cd-e8ec-4396-a598-9b40e6c44ba0', 'quantity': 1, 'price': 53.64}]|{quantity=1, price=53.64, product_id=7750a4cd-e8ec-4396-a598-9b40e6c44ba0} |{quantity -> 1, price -> 53.64, product_id -> 7750a4cd-e8ec-4396-a598-9b40e6c44ba0} |7750a4cd-e8ec-4396-a598-9b40e6c44ba0|53.64 |1       |\n",
            "+------------------------------------+---------------+----------------+-------------------+--------------------------------------------------------------------------------------------------------------------------------------------------------------------------------------------------------+------------------------------------+----------+-----------------------------------------------------------------------------------------------------------------------------------------------------------------------------------------------------------------------------------------------------------------------+---------------------------------------------------------------------------+------------------------------------------------------------------------------------+------------------------------------+------+--------+\n",
            "only showing top 20 rows\n",
            "\n"
          ]
        }
      ]
    },
    {
      "cell_type": "markdown",
      "source": [
        "###step - 2 Merging customer, transaction and product table"
      ],
      "metadata": {
        "id": "mhs8UoytptND"
      }
    },
    {
      "cell_type": "code",
      "source": [
        "cust_trans_product_df = cust_trans_df.join(product_df, cust_trans_df[\"product_id\"] == product_df[\"product_id\"], \"left\") \\\n",
        "                                      .select(cust_trans_df[\"customer_id\"],cust_trans_df[\"name\"],cust_trans_df[\"membership_level\"],\n",
        "                                              cust_trans_df[\"geographical_region\"],cust_trans_df[\"purchase_history\"],\n",
        "                                              cust_trans_df[\"transaction_id\"],cust_trans_df[\"customer_id\"],cust_trans_df[\"date\"],cust_trans_df[\"product_id\"],\n",
        "                                              cust_trans_df[\"price\"],cust_trans_df['quantity'],product_df[\"description\"],product_df[\"attributes\"],product_df[\"tax_rate\"])\n",
        "\n",
        "cust_trans_product_df.show(truncate=False)"
      ],
      "metadata": {
        "colab": {
          "base_uri": "https://localhost:8080/"
        },
        "id": "5Y-81MxYThpF",
        "outputId": "a82e2f71-7003-4ada-d3c1-edce4c32443e"
      },
      "execution_count": 34,
      "outputs": [
        {
          "output_type": "stream",
          "name": "stdout",
          "text": [
            "+------------------------------------+---------------+----------------+-------------------+--------------------------------------------------------------------------------------------------------------------------------------------------------------------------------------------------------+------------------------------------+------------------------------------+----------+------------------------------------+------+--------+-----------+------------------------------------+--------+\n",
            "|customer_id                         |name           |membership_level|geographical_region|purchase_history                                                                                                                                                                                        |transaction_id                      |customer_id                         |date      |product_id                          |price |quantity|description|attributes                          |tax_rate|\n",
            "+------------------------------------+---------------+----------------+-------------------+--------------------------------------------------------------------------------------------------------------------------------------------------------------------------------------------------------+------------------------------------+------------------------------------+----------+------------------------------------+------+--------+-----------+------------------------------------+--------+\n",
            "|9742cbb9-c28e-47de-b2db-f02776e70b85|Francisco Patel|Gold            |North America      |['d5dc3b47-3242-43d1-9cc7-5b2211cbe15a', '2a116c4b-af48-46db-ae5b-fb7261dfe215', '777a1db1-3761-489e-a8b1-be13191c4039', '1b92e367-c627-4713-afb2-ba58411e8766', 'e117f4ae-c11f-4e11-8e1c-b93c154445e8']|dbc5a987-9746-41f8-b15d-ffce1694403a|9742cbb9-c28e-47de-b2db-f02776e70b85|2023-08-23|a6f80668-73a3-4f67-8fdc-f060967e2969|472.44|3       |Mouse      |{'color': 'red', 'size': 'large'}   |0.15    |\n",
            "|9742cbb9-c28e-47de-b2db-f02776e70b85|Francisco Patel|Gold            |North America      |['d5dc3b47-3242-43d1-9cc7-5b2211cbe15a', '2a116c4b-af48-46db-ae5b-fb7261dfe215', '777a1db1-3761-489e-a8b1-be13191c4039', '1b92e367-c627-4713-afb2-ba58411e8766', 'e117f4ae-c11f-4e11-8e1c-b93c154445e8']|dbc5a987-9746-41f8-b15d-ffce1694403a|9742cbb9-c28e-47de-b2db-f02776e70b85|2023-08-23|8c3151ae-2961-4c3a-aa77-1060846aa4a9|227.19|3       |Smartphone |{'color': 'blue', 'size': 'medium'} |0.2     |\n",
            "|655db238-14e9-42b8-9579-f93e4a1674a7|Charles Burton |Gold            |Asia               |['aa9d902d-ec82-4c46-80ca-78818441a6d0']                                                                                                                                                                |3339dc37-ac33-4a86-9ce4-58390ab76c42|655db238-14e9-42b8-9579-f93e4a1674a7|2023-09-19|f6314c87-f117-4dbb-9566-4739d9b6e610|33.44 |2       |Monitor    |{'color': 'white', 'size': 'small'} |0.2     |\n",
            "|655db238-14e9-42b8-9579-f93e4a1674a7|Charles Burton |Gold            |Asia               |['aa9d902d-ec82-4c46-80ca-78818441a6d0']                                                                                                                                                                |c7701702-1bcf-41d7-93f0-9262bfe65662|655db238-14e9-42b8-9579-f93e4a1674a7|2023-03-02|7eeb70cf-dc59-4d41-a96c-c821ba7c4b60|420.0 |2       |Camera     |{'color': 'black', 'size': 'medium'}|0.1     |\n",
            "|655db238-14e9-42b8-9579-f93e4a1674a7|Charles Burton |Gold            |Asia               |['aa9d902d-ec82-4c46-80ca-78818441a6d0']                                                                                                                                                                |c7701702-1bcf-41d7-93f0-9262bfe65662|655db238-14e9-42b8-9579-f93e4a1674a7|2023-03-02|458c4344-3db7-4f3f-9c95-e9bc3206dab0|366.5 |2       |Monitor    |{'color': 'black', 'size': 'medium'}|0.07    |\n",
            "|655db238-14e9-42b8-9579-f93e4a1674a7|Charles Burton |Gold            |Asia               |['aa9d902d-ec82-4c46-80ca-78818441a6d0']                                                                                                                                                                |5c3eaa1e-2271-4bf6-bafb-6c4dae0b9be0|655db238-14e9-42b8-9579-f93e4a1674a7|2023-11-24|5b2949ae-8ace-4d69-abc2-b52a7c430ae8|29.35 |2       |Monitor    |{'color': 'blue', 'size': 'medium'} |0.15    |\n",
            "|655db238-14e9-42b8-9579-f93e4a1674a7|Charles Burton |Gold            |Asia               |['aa9d902d-ec82-4c46-80ca-78818441a6d0']                                                                                                                                                                |5c3eaa1e-2271-4bf6-bafb-6c4dae0b9be0|655db238-14e9-42b8-9579-f93e4a1674a7|2023-11-24|5846d468-74c7-4fde-9d15-d12721661afd|381.72|5       |Smartwatch |{'color': 'black', 'size': 'medium'}|0.15    |\n",
            "|655db238-14e9-42b8-9579-f93e4a1674a7|Charles Burton |Gold            |Asia               |['aa9d902d-ec82-4c46-80ca-78818441a6d0']                                                                                                                                                                |5c3eaa1e-2271-4bf6-bafb-6c4dae0b9be0|655db238-14e9-42b8-9579-f93e4a1674a7|2023-11-24|9cbe19fb-bf33-4006-887f-4f988e78960f|133.59|2       |Smartphone |{'color': 'red', 'size': 'large'}   |0.15    |\n",
            "|efc925cb-f306-48d9-ac2b-9ddda0fc095f|Donna Dickson  |Gold            |Europe             |['84f738d0-d0ac-42f8-a863-b6df1d476aa3']                                                                                                                                                                |1a1392c9-0d07-484a-91f0-43603b657c41|efc925cb-f306-48d9-ac2b-9ddda0fc095f|2023-08-17|5a3754a5-c2d2-4bd9-87fe-90c7cc701fab|315.17|3       |Printer    |{'color': 'black', 'size': 'medium'}|0.07    |\n",
            "|efc925cb-f306-48d9-ac2b-9ddda0fc095f|Donna Dickson  |Gold            |Europe             |['84f738d0-d0ac-42f8-a863-b6df1d476aa3']                                                                                                                                                                |1a1392c9-0d07-484a-91f0-43603b657c41|efc925cb-f306-48d9-ac2b-9ddda0fc095f|2023-08-17|a1c82576-98b0-406d-8a24-87f63a03096c|280.47|3       |Headphones |{'color': 'blue', 'size': 'medium'} |0.1     |\n",
            "|efc925cb-f306-48d9-ac2b-9ddda0fc095f|Donna Dickson  |Gold            |Europe             |['84f738d0-d0ac-42f8-a863-b6df1d476aa3']                                                                                                                                                                |b1767fa6-7adf-410d-be50-c6e0849104f1|efc925cb-f306-48d9-ac2b-9ddda0fc095f|2023-06-30|6f093da2-dfe6-41cb-a13b-6c7292da8ea8|306.79|4       |Monitor    |{'color': 'black', 'size': 'medium'}|0.2     |\n",
            "|efc925cb-f306-48d9-ac2b-9ddda0fc095f|Donna Dickson  |Gold            |Europe             |['84f738d0-d0ac-42f8-a863-b6df1d476aa3']                                                                                                                                                                |41952c68-2ff9-4014-9433-1783bcc786eb|efc925cb-f306-48d9-ac2b-9ddda0fc095f|2023-04-07|f79b2a9c-3a30-4bbf-b1f5-dff4c0f54fd6|150.61|2       |Tablet     |{'color': 'white', 'size': 'small'} |0.1     |\n",
            "|4a2168d7-170a-4d83-a97f-0b28283ecb22|Tara Williams  |Silver          |North America      |['1a5919e6-50f7-45e9-9c97-24676a10192c', 'be40d076-8fb2-48a5-9358-4937c57c71c1', '1f345b78-7c89-4069-b9f5-4a59c375b2d5', '917b2d10-6e50-4d25-ac3a-ee8a12a7de46', '8453ae37-b49c-4daf-9285-198a396eb7e9']|a07a3bad-c0b8-4ff6-b4c1-c478e4ff77aa|4a2168d7-170a-4d83-a97f-0b28283ecb22|2023-08-09|47c2daa6-19a7-4864-91a4-8364b246d69d|39.4  |1       |Smartwatch |{'color': 'blue', 'size': 'medium'} |0.15    |\n",
            "|4a2168d7-170a-4d83-a97f-0b28283ecb22|Tara Williams  |Silver          |North America      |['1a5919e6-50f7-45e9-9c97-24676a10192c', 'be40d076-8fb2-48a5-9358-4937c57c71c1', '1f345b78-7c89-4069-b9f5-4a59c375b2d5', '917b2d10-6e50-4d25-ac3a-ee8a12a7de46', '8453ae37-b49c-4daf-9285-198a396eb7e9']|a4c1659d-5c83-47e4-a6d6-3a8f9c1b104b|4a2168d7-170a-4d83-a97f-0b28283ecb22|2023-10-31|3de766c3-350a-4b22-bf69-8cb190141ac1|334.77|5       |Mouse      |{'color': 'red', 'size': 'large'}   |0.07    |\n",
            "|4a2168d7-170a-4d83-a97f-0b28283ecb22|Tara Williams  |Silver          |North America      |['1a5919e6-50f7-45e9-9c97-24676a10192c', 'be40d076-8fb2-48a5-9358-4937c57c71c1', '1f345b78-7c89-4069-b9f5-4a59c375b2d5', '917b2d10-6e50-4d25-ac3a-ee8a12a7de46', '8453ae37-b49c-4daf-9285-198a396eb7e9']|aae93a5d-d33f-4927-a739-7ecac8beb31b|4a2168d7-170a-4d83-a97f-0b28283ecb22|2023-10-09|dc774f23-b4cc-49a5-a11b-ee2b73b02b43|84.91 |2       |Printer    |{'color': 'black', 'size': 'medium'}|0.1     |\n",
            "|8619066f-21d0-409b-a673-256c34121c94|Richard Duran  |Silver          |Australia          |['5c1e9cd9-4f01-4d5b-b0e7-2bfc1cf39aef', 'fb9999d0-37e8-4147-9f2c-1fd95f956aad', '0d00fc7e-1cfe-4435-8809-d51becab810d', '97d5dedc-4697-481a-bb64-3eaf41248d76', '5c9ccb16-99fb-4b01-bda2-16fe8e466ea6']|e346b3d2-fb2e-406c-a05a-5ba67ffbbbd6|8619066f-21d0-409b-a673-256c34121c94|2023-01-16|9c7a55e4-ffdf-4da5-8713-9256f5a3d8a8|459.64|1       |Laptop     |{'color': 'white', 'size': 'small'} |0.2     |\n",
            "|8619066f-21d0-409b-a673-256c34121c94|Richard Duran  |Silver          |Australia          |['5c1e9cd9-4f01-4d5b-b0e7-2bfc1cf39aef', 'fb9999d0-37e8-4147-9f2c-1fd95f956aad', '0d00fc7e-1cfe-4435-8809-d51becab810d', '97d5dedc-4697-481a-bb64-3eaf41248d76', '5c9ccb16-99fb-4b01-bda2-16fe8e466ea6']|e346b3d2-fb2e-406c-a05a-5ba67ffbbbd6|8619066f-21d0-409b-a673-256c34121c94|2023-01-16|4e5b6c02-241f-478a-b040-067fad542260|115.16|3       |Printer    |{'color': 'red', 'size': 'large'}   |0.1     |\n",
            "|8619066f-21d0-409b-a673-256c34121c94|Richard Duran  |Silver          |Australia          |['5c1e9cd9-4f01-4d5b-b0e7-2bfc1cf39aef', 'fb9999d0-37e8-4147-9f2c-1fd95f956aad', '0d00fc7e-1cfe-4435-8809-d51becab810d', '97d5dedc-4697-481a-bb64-3eaf41248d76', '5c9ccb16-99fb-4b01-bda2-16fe8e466ea6']|b2fcc94c-19c8-4975-b1b6-8dd2574c5591|8619066f-21d0-409b-a673-256c34121c94|2023-12-27|bd20187a-f13f-4ba1-b71d-f14078273c63|266.44|3       |Smartphone |{'color': 'blue', 'size': 'medium'} |0.15    |\n",
            "|8619066f-21d0-409b-a673-256c34121c94|Richard Duran  |Silver          |Australia          |['5c1e9cd9-4f01-4d5b-b0e7-2bfc1cf39aef', 'fb9999d0-37e8-4147-9f2c-1fd95f956aad', '0d00fc7e-1cfe-4435-8809-d51becab810d', '97d5dedc-4697-481a-bb64-3eaf41248d76', '5c9ccb16-99fb-4b01-bda2-16fe8e466ea6']|b2fcc94c-19c8-4975-b1b6-8dd2574c5591|8619066f-21d0-409b-a673-256c34121c94|2023-12-27|ae2ddc58-0f2a-43ca-af05-7bca69fbf552|236.45|1       |Printer    |{'color': 'white', 'size': 'small'} |0.1     |\n",
            "|8619066f-21d0-409b-a673-256c34121c94|Richard Duran  |Silver          |Australia          |['5c1e9cd9-4f01-4d5b-b0e7-2bfc1cf39aef', 'fb9999d0-37e8-4147-9f2c-1fd95f956aad', '0d00fc7e-1cfe-4435-8809-d51becab810d', '97d5dedc-4697-481a-bb64-3eaf41248d76', '5c9ccb16-99fb-4b01-bda2-16fe8e466ea6']|b2fcc94c-19c8-4975-b1b6-8dd2574c5591|8619066f-21d0-409b-a673-256c34121c94|2023-12-27|7750a4cd-e8ec-4396-a598-9b40e6c44ba0|53.64 |1       |Monitor    |{'color': 'black', 'size': 'medium'}|0.2     |\n",
            "+------------------------------------+---------------+----------------+-------------------+--------------------------------------------------------------------------------------------------------------------------------------------------------------------------------------------------------+------------------------------------+------------------------------------+----------+------------------------------------+------+--------+-----------+------------------------------------+--------+\n",
            "only showing top 20 rows\n",
            "\n"
          ]
        }
      ]
    },
    {
      "cell_type": "code",
      "source": [
        "### selecting appropriate columns for Analysis\n",
        "cust_trans_product_prom_df = cust_trans_product_df.select(\"customer_id\",\"name\",\"membership_level\",\"geographical_region\",\"purchase_history\",\"transaction_id\",\"customer_id\",\"date\",\"product_id\",\"price\",'quantity',\"description\",\"attributes\",\"tax_rate\")"
      ],
      "metadata": {
        "id": "2HACQaKDaZvk"
      },
      "execution_count": 35,
      "outputs": []
    },
    {
      "cell_type": "markdown",
      "source": [
        "###step - 3 Merge all cutomer, transaction, product and promotion table and complete the data modelling part and make data ready for analysis"
      ],
      "metadata": {
        "id": "quE_NYAhrQ-c"
      }
    },
    {
      "cell_type": "code",
      "source": [
        "cust_trans_product_prom_df = cust_trans_product_df.join(promotion_denormalized_df, cust_trans_product_df[\"product_id\"] == promotion_denormalized_df[\"individual_applicable_product\"], \"left\")\n",
        "cust_trans_product_prom_df.show(truncate=False)"
      ],
      "metadata": {
        "colab": {
          "base_uri": "https://localhost:8080/"
        },
        "id": "DS-5f0ngThqq",
        "outputId": "a867a1bc-5180-4f11-f8ff-cd055dcdcfa3"
      },
      "execution_count": 58,
      "outputs": [
        {
          "output_type": "stream",
          "name": "stdout",
          "text": [
            "+------------------------------------+---------------+----------------+-------------------+--------------------------------------------------------------------------------------------------------------------------------------------------------------------------------------------------------+------------------------------------+------------------------------------+----------+------------------------------------+------+--------+-----------+------------------------------------+--------+------------------------------------+-------------------------------------------------------+--------+------------------------------------+\n",
            "|customer_id                         |name           |membership_level|geographical_region|purchase_history                                                                                                                                                                                        |transaction_id                      |customer_id                         |date      |product_id                          |price |quantity|description|attributes                          |tax_rate|promo_id                            |prom_description                                       |discount|individual_applicable_product       |\n",
            "+------------------------------------+---------------+----------------+-------------------+--------------------------------------------------------------------------------------------------------------------------------------------------------------------------------------------------------+------------------------------------+------------------------------------+----------+------------------------------------+------+--------+-----------+------------------------------------+--------+------------------------------------+-------------------------------------------------------+--------+------------------------------------+\n",
            "|9742cbb9-c28e-47de-b2db-f02776e70b85|Francisco Patel|Gold            |North America      |['d5dc3b47-3242-43d1-9cc7-5b2211cbe15a', '2a116c4b-af48-46db-ae5b-fb7261dfe215', '777a1db1-3761-489e-a8b1-be13191c4039', '1b92e367-c627-4713-afb2-ba58411e8766', 'e117f4ae-c11f-4e11-8e1c-b93c154445e8']|dbc5a987-9746-41f8-b15d-ffce1694403a|9742cbb9-c28e-47de-b2db-f02776e70b85|2023-08-23|a6f80668-73a3-4f67-8fdc-f060967e2969|472.44|3       |Mouse      |{'color': 'red', 'size': 'large'}   |0.15    |NULL                                |NULL                                                   |NULL    |NULL                                |\n",
            "|9742cbb9-c28e-47de-b2db-f02776e70b85|Francisco Patel|Gold            |North America      |['d5dc3b47-3242-43d1-9cc7-5b2211cbe15a', '2a116c4b-af48-46db-ae5b-fb7261dfe215', '777a1db1-3761-489e-a8b1-be13191c4039', '1b92e367-c627-4713-afb2-ba58411e8766', 'e117f4ae-c11f-4e11-8e1c-b93c154445e8']|dbc5a987-9746-41f8-b15d-ffce1694403a|9742cbb9-c28e-47de-b2db-f02776e70b85|2023-08-23|8c3151ae-2961-4c3a-aa77-1060846aa4a9|227.19|3       |Smartphone |{'color': 'blue', 'size': 'medium'} |0.2     |NULL                                |NULL                                                   |NULL    |NULL                                |\n",
            "|655db238-14e9-42b8-9579-f93e4a1674a7|Charles Burton |Gold            |Asia               |['aa9d902d-ec82-4c46-80ca-78818441a6d0']                                                                                                                                                                |3339dc37-ac33-4a86-9ce4-58390ab76c42|655db238-14e9-42b8-9579-f93e4a1674a7|2023-09-19|f6314c87-f117-4dbb-9566-4739d9b6e610|33.44 |2       |Monitor    |{'color': 'white', 'size': 'small'} |0.2     |e38515c2-5d2c-4a3b-a7c7-1b1ba4f33363|Perhaps individual nation young east treat across.     |47.19   |f6314c87-f117-4dbb-9566-4739d9b6e610|\n",
            "|655db238-14e9-42b8-9579-f93e4a1674a7|Charles Burton |Gold            |Asia               |['aa9d902d-ec82-4c46-80ca-78818441a6d0']                                                                                                                                                                |c7701702-1bcf-41d7-93f0-9262bfe65662|655db238-14e9-42b8-9579-f93e4a1674a7|2023-03-02|7eeb70cf-dc59-4d41-a96c-c821ba7c4b60|420.0 |2       |Camera     |{'color': 'black', 'size': 'medium'}|0.1     |f30c2c0f-2fd5-4fe9-9cbe-9bf870e8e712|Power event court budget kind best tree.               |17.79   |7eeb70cf-dc59-4d41-a96c-c821ba7c4b60|\n",
            "|655db238-14e9-42b8-9579-f93e4a1674a7|Charles Burton |Gold            |Asia               |['aa9d902d-ec82-4c46-80ca-78818441a6d0']                                                                                                                                                                |c7701702-1bcf-41d7-93f0-9262bfe65662|655db238-14e9-42b8-9579-f93e4a1674a7|2023-03-02|458c4344-3db7-4f3f-9c95-e9bc3206dab0|366.5 |2       |Monitor    |{'color': 'black', 'size': 'medium'}|0.07    |acf242c2-d2bd-4672-bc4b-bc612d890da0|Ago note discussion degree discussion word institution.|49.08   |458c4344-3db7-4f3f-9c95-e9bc3206dab0|\n",
            "|655db238-14e9-42b8-9579-f93e4a1674a7|Charles Burton |Gold            |Asia               |['aa9d902d-ec82-4c46-80ca-78818441a6d0']                                                                                                                                                                |5c3eaa1e-2271-4bf6-bafb-6c4dae0b9be0|655db238-14e9-42b8-9579-f93e4a1674a7|2023-11-24|5b2949ae-8ace-4d69-abc2-b52a7c430ae8|29.35 |2       |Monitor    |{'color': 'blue', 'size': 'medium'} |0.15    |2701986c-baef-4ac6-ae61-aa2ff4e952af|Age industry charge process fact.                      |40.65   |5b2949ae-8ace-4d69-abc2-b52a7c430ae8|\n",
            "|655db238-14e9-42b8-9579-f93e4a1674a7|Charles Burton |Gold            |Asia               |['aa9d902d-ec82-4c46-80ca-78818441a6d0']                                                                                                                                                                |5c3eaa1e-2271-4bf6-bafb-6c4dae0b9be0|655db238-14e9-42b8-9579-f93e4a1674a7|2023-11-24|5846d468-74c7-4fde-9d15-d12721661afd|381.72|5       |Smartwatch |{'color': 'black', 'size': 'medium'}|0.15    |f6d10150-3098-4a4b-9c66-38ff502974d2|Industry prevent throw increase family Congress.       |33.44   |5846d468-74c7-4fde-9d15-d12721661afd|\n",
            "|655db238-14e9-42b8-9579-f93e4a1674a7|Charles Burton |Gold            |Asia               |['aa9d902d-ec82-4c46-80ca-78818441a6d0']                                                                                                                                                                |5c3eaa1e-2271-4bf6-bafb-6c4dae0b9be0|655db238-14e9-42b8-9579-f93e4a1674a7|2023-11-24|9cbe19fb-bf33-4006-887f-4f988e78960f|133.59|2       |Smartphone |{'color': 'red', 'size': 'large'}   |0.15    |NULL                                |NULL                                                   |NULL    |NULL                                |\n",
            "|efc925cb-f306-48d9-ac2b-9ddda0fc095f|Donna Dickson  |Gold            |Europe             |['84f738d0-d0ac-42f8-a863-b6df1d476aa3']                                                                                                                                                                |1a1392c9-0d07-484a-91f0-43603b657c41|efc925cb-f306-48d9-ac2b-9ddda0fc095f|2023-08-17|5a3754a5-c2d2-4bd9-87fe-90c7cc701fab|315.17|3       |Printer    |{'color': 'black', 'size': 'medium'}|0.07    |dbec2cb1-2dcd-4371-bd20-b191fefe59c1|Stuff ability in commercial how player.                |5.4     |5a3754a5-c2d2-4bd9-87fe-90c7cc701fab|\n",
            "|efc925cb-f306-48d9-ac2b-9ddda0fc095f|Donna Dickson  |Gold            |Europe             |['84f738d0-d0ac-42f8-a863-b6df1d476aa3']                                                                                                                                                                |1a1392c9-0d07-484a-91f0-43603b657c41|efc925cb-f306-48d9-ac2b-9ddda0fc095f|2023-08-17|a1c82576-98b0-406d-8a24-87f63a03096c|280.47|3       |Headphones |{'color': 'blue', 'size': 'medium'} |0.1     |2701986c-baef-4ac6-ae61-aa2ff4e952af|Age industry charge process fact.                      |40.65   |a1c82576-98b0-406d-8a24-87f63a03096c|\n",
            "|efc925cb-f306-48d9-ac2b-9ddda0fc095f|Donna Dickson  |Gold            |Europe             |['84f738d0-d0ac-42f8-a863-b6df1d476aa3']                                                                                                                                                                |b1767fa6-7adf-410d-be50-c6e0849104f1|efc925cb-f306-48d9-ac2b-9ddda0fc095f|2023-06-30|6f093da2-dfe6-41cb-a13b-6c7292da8ea8|306.79|4       |Monitor    |{'color': 'black', 'size': 'medium'}|0.2     |47749d85-fec1-4081-bc60-105f503275b3|Population room future pressure strong.                |38.76   |6f093da2-dfe6-41cb-a13b-6c7292da8ea8|\n",
            "|efc925cb-f306-48d9-ac2b-9ddda0fc095f|Donna Dickson  |Gold            |Europe             |['84f738d0-d0ac-42f8-a863-b6df1d476aa3']                                                                                                                                                                |41952c68-2ff9-4014-9433-1783bcc786eb|efc925cb-f306-48d9-ac2b-9ddda0fc095f|2023-04-07|f79b2a9c-3a30-4bbf-b1f5-dff4c0f54fd6|150.61|2       |Tablet     |{'color': 'white', 'size': 'small'} |0.1     |1ee1e0c2-8433-4780-9b73-0497a15a8c2d|Stand upon sure government.                            |6.28    |f79b2a9c-3a30-4bbf-b1f5-dff4c0f54fd6|\n",
            "|4a2168d7-170a-4d83-a97f-0b28283ecb22|Tara Williams  |Silver          |North America      |['1a5919e6-50f7-45e9-9c97-24676a10192c', 'be40d076-8fb2-48a5-9358-4937c57c71c1', '1f345b78-7c89-4069-b9f5-4a59c375b2d5', '917b2d10-6e50-4d25-ac3a-ee8a12a7de46', '8453ae37-b49c-4daf-9285-198a396eb7e9']|a07a3bad-c0b8-4ff6-b4c1-c478e4ff77aa|4a2168d7-170a-4d83-a97f-0b28283ecb22|2023-08-09|47c2daa6-19a7-4864-91a4-8364b246d69d|39.4  |1       |Smartwatch |{'color': 'blue', 'size': 'medium'} |0.15    |NULL                                |NULL                                                   |NULL    |NULL                                |\n",
            "|4a2168d7-170a-4d83-a97f-0b28283ecb22|Tara Williams  |Silver          |North America      |['1a5919e6-50f7-45e9-9c97-24676a10192c', 'be40d076-8fb2-48a5-9358-4937c57c71c1', '1f345b78-7c89-4069-b9f5-4a59c375b2d5', '917b2d10-6e50-4d25-ac3a-ee8a12a7de46', '8453ae37-b49c-4daf-9285-198a396eb7e9']|a4c1659d-5c83-47e4-a6d6-3a8f9c1b104b|4a2168d7-170a-4d83-a97f-0b28283ecb22|2023-10-31|3de766c3-350a-4b22-bf69-8cb190141ac1|334.77|5       |Mouse      |{'color': 'red', 'size': 'large'}   |0.07    |NULL                                |NULL                                                   |NULL    |NULL                                |\n",
            "|4a2168d7-170a-4d83-a97f-0b28283ecb22|Tara Williams  |Silver          |North America      |['1a5919e6-50f7-45e9-9c97-24676a10192c', 'be40d076-8fb2-48a5-9358-4937c57c71c1', '1f345b78-7c89-4069-b9f5-4a59c375b2d5', '917b2d10-6e50-4d25-ac3a-ee8a12a7de46', '8453ae37-b49c-4daf-9285-198a396eb7e9']|aae93a5d-d33f-4927-a739-7ecac8beb31b|4a2168d7-170a-4d83-a97f-0b28283ecb22|2023-10-09|dc774f23-b4cc-49a5-a11b-ee2b73b02b43|84.91 |2       |Printer    |{'color': 'black', 'size': 'medium'}|0.1     |ffae02fd-2186-458d-88d4-58ed822f07e0|Tend high friend.                                      |6.85    |dc774f23-b4cc-49a5-a11b-ee2b73b02b43|\n",
            "|8619066f-21d0-409b-a673-256c34121c94|Richard Duran  |Silver          |Australia          |['5c1e9cd9-4f01-4d5b-b0e7-2bfc1cf39aef', 'fb9999d0-37e8-4147-9f2c-1fd95f956aad', '0d00fc7e-1cfe-4435-8809-d51becab810d', '97d5dedc-4697-481a-bb64-3eaf41248d76', '5c9ccb16-99fb-4b01-bda2-16fe8e466ea6']|e346b3d2-fb2e-406c-a05a-5ba67ffbbbd6|8619066f-21d0-409b-a673-256c34121c94|2023-01-16|9c7a55e4-ffdf-4da5-8713-9256f5a3d8a8|459.64|1       |Laptop     |{'color': 'white', 'size': 'small'} |0.2     |36259396-4bc0-48a6-ac06-b480b2c0cde9|Police read have sign about treat your tell.           |10.11   |9c7a55e4-ffdf-4da5-8713-9256f5a3d8a8|\n",
            "|8619066f-21d0-409b-a673-256c34121c94|Richard Duran  |Silver          |Australia          |['5c1e9cd9-4f01-4d5b-b0e7-2bfc1cf39aef', 'fb9999d0-37e8-4147-9f2c-1fd95f956aad', '0d00fc7e-1cfe-4435-8809-d51becab810d', '97d5dedc-4697-481a-bb64-3eaf41248d76', '5c9ccb16-99fb-4b01-bda2-16fe8e466ea6']|e346b3d2-fb2e-406c-a05a-5ba67ffbbbd6|8619066f-21d0-409b-a673-256c34121c94|2023-01-16|4e5b6c02-241f-478a-b040-067fad542260|115.16|3       |Printer    |{'color': 'red', 'size': 'large'}   |0.1     |0c03408e-d51e-4f10-84d1-8cd55f55e91c|Argue indicate animal subject research approach that.  |11.33   |4e5b6c02-241f-478a-b040-067fad542260|\n",
            "|8619066f-21d0-409b-a673-256c34121c94|Richard Duran  |Silver          |Australia          |['5c1e9cd9-4f01-4d5b-b0e7-2bfc1cf39aef', 'fb9999d0-37e8-4147-9f2c-1fd95f956aad', '0d00fc7e-1cfe-4435-8809-d51becab810d', '97d5dedc-4697-481a-bb64-3eaf41248d76', '5c9ccb16-99fb-4b01-bda2-16fe8e466ea6']|b2fcc94c-19c8-4975-b1b6-8dd2574c5591|8619066f-21d0-409b-a673-256c34121c94|2023-12-27|bd20187a-f13f-4ba1-b71d-f14078273c63|266.44|3       |Smartphone |{'color': 'blue', 'size': 'medium'} |0.15    |NULL                                |NULL                                                   |NULL    |NULL                                |\n",
            "|8619066f-21d0-409b-a673-256c34121c94|Richard Duran  |Silver          |Australia          |['5c1e9cd9-4f01-4d5b-b0e7-2bfc1cf39aef', 'fb9999d0-37e8-4147-9f2c-1fd95f956aad', '0d00fc7e-1cfe-4435-8809-d51becab810d', '97d5dedc-4697-481a-bb64-3eaf41248d76', '5c9ccb16-99fb-4b01-bda2-16fe8e466ea6']|b2fcc94c-19c8-4975-b1b6-8dd2574c5591|8619066f-21d0-409b-a673-256c34121c94|2023-12-27|ae2ddc58-0f2a-43ca-af05-7bca69fbf552|236.45|1       |Printer    |{'color': 'white', 'size': 'small'} |0.1     |NULL                                |NULL                                                   |NULL    |NULL                                |\n",
            "|8619066f-21d0-409b-a673-256c34121c94|Richard Duran  |Silver          |Australia          |['5c1e9cd9-4f01-4d5b-b0e7-2bfc1cf39aef', 'fb9999d0-37e8-4147-9f2c-1fd95f956aad', '0d00fc7e-1cfe-4435-8809-d51becab810d', '97d5dedc-4697-481a-bb64-3eaf41248d76', '5c9ccb16-99fb-4b01-bda2-16fe8e466ea6']|b2fcc94c-19c8-4975-b1b6-8dd2574c5591|8619066f-21d0-409b-a673-256c34121c94|2023-12-27|7750a4cd-e8ec-4396-a598-9b40e6c44ba0|53.64 |1       |Monitor    |{'color': 'black', 'size': 'medium'}|0.2     |NULL                                |NULL                                                   |NULL    |NULL                                |\n",
            "+------------------------------------+---------------+----------------+-------------------+--------------------------------------------------------------------------------------------------------------------------------------------------------------------------------------------------------+------------------------------------+------------------------------------+----------+------------------------------------+------+--------+-----------+------------------------------------+--------+------------------------------------+-------------------------------------------------------+--------+------------------------------------+\n",
            "only showing top 20 rows\n",
            "\n"
          ]
        }
      ]
    },
    {
      "cell_type": "code",
      "source": [],
      "metadata": {
        "id": "hqE5ng12vM8X"
      },
      "execution_count": 57,
      "outputs": []
    },
    {
      "cell_type": "code",
      "source": [
        "# checking for NULL\n",
        "# from pyspark.sql.functions import col, sum as sum_\n",
        "# cust_trans_product_prom_df.select(sum_(col('individual_applicable_product').isNull().cast(\"int\"))).show()"
      ],
      "metadata": {
        "id": "YWiKHB__ae2C"
      },
      "execution_count": 36,
      "outputs": []
    },
    {
      "cell_type": "code",
      "source": [
        "####changing the data type for aggregation\n",
        "cust_trans_product_prom_df = cust_trans_product_prom_df.withColumn(\"price\", col(\"price\").cast(\"double\"))\n",
        "cust_trans_product_prom_df.dtypes"
      ],
      "metadata": {
        "id": "W8qBfQqvAmKb",
        "colab": {
          "base_uri": "https://localhost:8080/"
        },
        "outputId": "e8952677-1365-4690-b11a-702aafa155e9"
      },
      "execution_count": 37,
      "outputs": [
        {
          "output_type": "execute_result",
          "data": {
            "text/plain": [
              "[('customer_id', 'string'),\n",
              " ('name', 'string'),\n",
              " ('membership_level', 'string'),\n",
              " ('geographical_region', 'string'),\n",
              " ('purchase_history', 'string'),\n",
              " ('transaction_id', 'string'),\n",
              " ('customer_id', 'string'),\n",
              " ('date', 'date'),\n",
              " ('product_id', 'string'),\n",
              " ('price', 'double'),\n",
              " ('quantity', 'string'),\n",
              " ('description', 'string'),\n",
              " ('attributes', 'string'),\n",
              " ('tax_rate', 'double')]"
            ]
          },
          "metadata": {},
          "execution_count": 37
        }
      ]
    },
    {
      "cell_type": "markdown",
      "source": [
        "#Analysis"
      ],
      "metadata": {
        "id": "io6-7DB9144M"
      }
    },
    {
      "cell_type": "code",
      "source": [
        "##########Library#############\n",
        "from pyspark.sql.functions import sum, col\n"
      ],
      "metadata": {
        "id": "-QfYo-Tq87gp"
      },
      "execution_count": 38,
      "outputs": []
    },
    {
      "cell_type": "code",
      "source": [
        "##### 1.1) Total sales per transaction\n",
        "total_sales_per_transaction = cust_trans_product_prom_df.groupBy('transaction_id').agg(sum('price').alias('Total_sales')).orderBy(col(\"Total_sales\").desc())\n",
        "total_sales_per_transaction.show(truncate=False),total_sales_per_transaction.count()"
      ],
      "metadata": {
        "colab": {
          "base_uri": "https://localhost:8080/"
        },
        "id": "bHVAMZOU1z-O",
        "outputId": "f182519b-3c42-441d-843b-8911d7243596"
      },
      "execution_count": 48,
      "outputs": [
        {
          "output_type": "stream",
          "name": "stdout",
          "text": [
            "+------------------------------------+------------------+\n",
            "|transaction_id                      |Total_sales       |\n",
            "+------------------------------------+------------------+\n",
            "|ad94221f-8680-49f4-b024-fccd615e0c09|1441.0900000000001|\n",
            "|fd4a1408-a46d-415a-a193-f92a1228149e|1380.7            |\n",
            "|8b434da8-56e0-4edc-9b7d-e7c36eb8d1dd|1377.54           |\n",
            "|6a716822-9ad6-4e8b-9375-8547dfe153d5|1365.75           |\n",
            "|8b674f84-899c-4d56-a204-86c85788a104|1330.68           |\n",
            "|1beb58ac-eba4-4b94-8b71-aa3ba1240a0a|1330.31           |\n",
            "|b196000b-f9af-48ef-96b4-dcbb1849e7e1|1325.62           |\n",
            "|815013d7-063b-4648-8cb3-752c60d5caab|1320.64           |\n",
            "|1997cff0-3bc0-4729-a6e7-30d08bd36f65|1314.46           |\n",
            "|697e32b4-a91d-442f-98c3-a51a8044aac8|1310.54           |\n",
            "|6482e81a-e2e5-4099-b1fe-8ade8c3cf636|1309.24           |\n",
            "|e7709ebe-e63e-47f8-aca4-fba16dece567|1304.88           |\n",
            "|b16b9a6e-711f-4930-8944-63e7d3a8f05a|1294.67           |\n",
            "|fe03adf7-5289-487c-b375-6597a5b4059d|1285.46           |\n",
            "|dce6cd32-78fd-4e12-a188-ad3fc3581947|1277.51           |\n",
            "|f575b561-8541-42af-90f6-7daa0575496d|1264.42           |\n",
            "|ad64f77a-71f6-484d-b852-a73fc518de9c|1257.54           |\n",
            "|52d2ec30-78f8-4358-ad5b-8f150b12874e|1256.83           |\n",
            "|0e4a98a7-726e-4d50-a9d3-ff4588e27c95|1253.3600000000001|\n",
            "|98f10f95-05d0-41ac-8b81-49a2da2242b0|1247.34           |\n",
            "+------------------------------------+------------------+\n",
            "only showing top 20 rows\n",
            "\n"
          ]
        },
        {
          "output_type": "execute_result",
          "data": {
            "text/plain": [
              "(None, 3000)"
            ]
          },
          "metadata": {},
          "execution_count": 48
        }
      ]
    },
    {
      "cell_type": "code",
      "source": [
        "#### 1.2) calculating total price for items\n",
        "total_price_per_item = cust_trans_product_prom_df.groupBy('description').agg(sum('price').alias('Total_sales'))\n",
        "total_price_per_item.show(truncate=False),total_price_per_item.count()\n"
      ],
      "metadata": {
        "colab": {
          "base_uri": "https://localhost:8080/"
        },
        "id": "mo0Z3aix10AV",
        "outputId": "c4fde3ee-05be-4142-ff0c-75f2c990c611"
      },
      "execution_count": 49,
      "outputs": [
        {
          "output_type": "stream",
          "name": "stdout",
          "text": [
            "+-----------+------------------+\n",
            "|description|Total_sales       |\n",
            "+-----------+------------------+\n",
            "|Smartwatch |167287.14999999994|\n",
            "|Laptop     |130587.39999999998|\n",
            "|Mouse      |134075.78000000006|\n",
            "|Camera     |166177.71         |\n",
            "|Tablet     |183921.9699999999 |\n",
            "|Printer    |155836.33         |\n",
            "|Keyboard   |121635.02000000012|\n",
            "|Smartphone |161504.53999999992|\n",
            "|Monitor    |154500.2199999998 |\n",
            "|Headphones |172990.33000000005|\n",
            "+-----------+------------------+\n",
            "\n"
          ]
        },
        {
          "output_type": "execute_result",
          "data": {
            "text/plain": [
              "(None, 10)"
            ]
          },
          "metadata": {},
          "execution_count": 49
        }
      ]
    },
    {
      "cell_type": "code",
      "source": [
        "#### 2) Tax calculation by transaction\n",
        "tax_by_transation = cust_trans_product_prom_df.groupBy('transaction_id', 'description').agg(sum('tax_rate').alias('Total_tax'))\n",
        "tax_by_transation.show(truncate=False),tax_by_transation.count()"
      ],
      "metadata": {
        "colab": {
          "base_uri": "https://localhost:8080/"
        },
        "id": "1J_sQIbk10C4",
        "outputId": "41d242a4-8c63-428f-9d71-eb3af972a4cb"
      },
      "execution_count": 50,
      "outputs": [
        {
          "output_type": "stream",
          "name": "stdout",
          "text": [
            "+------------------------------------+-----------+---------+\n",
            "|transaction_id                      |description|Total_tax|\n",
            "+------------------------------------+-----------+---------+\n",
            "|da1cf943-f2bd-41cb-987b-602c21661d64|Camera     |0.2      |\n",
            "|efa1a5d9-6475-42f4-94b0-6e7a3f1a69f5|Headphones |0.07     |\n",
            "|b960b06a-9efe-469a-8d60-c4e818d8bfec|Laptop     |0.1      |\n",
            "|346dde3d-3c1e-40cb-a846-7bee30c26f51|Monitor    |0.15     |\n",
            "|f8459370-c3ab-4790-906c-041b9ba385cf|Camera     |0.07     |\n",
            "|cd4bd342-ac79-4461-bde7-efc29d1fed7c|Smartwatch |0.2      |\n",
            "|b772abb7-8200-4dce-a2ad-b521426428be|Camera     |0.2      |\n",
            "|9e6d845b-0d2a-4567-9ae2-ed524505fbc6|Keyboard   |0.07     |\n",
            "|d211aba7-fea4-4e53-b2b4-63a809630850|Mouse      |0.07     |\n",
            "|eeab1412-b8ef-4672-82ab-d33bbd645745|Smartwatch |0.35     |\n",
            "|50aa2d8a-1298-4d87-ab0f-ede646b3e519|Smartphone |0.1      |\n",
            "|9ac35b7b-0fe1-4e3a-9b88-59e1729718b7|Smartphone |0.1      |\n",
            "|26db6568-bbd0-4eae-8e0a-bce8c080e349|Printer    |0.1      |\n",
            "|b941287d-85a7-4312-925f-dc35b563ee14|Smartphone |0.2      |\n",
            "|20e11798-1bbb-4608-9e48-7770c2c965cc|Monitor    |0.2      |\n",
            "|c487edb4-657a-4707-80f3-10c6fc769bfa|Smartwatch |0.1      |\n",
            "|431c3930-e731-4ae5-93da-8dde5510c20d|Smartwatch |0.07     |\n",
            "|20a00bd4-05aa-4926-bebc-ed710f791fe8|Tablet     |0.07     |\n",
            "|29dad581-4f0f-4a41-801f-1c326f60d13a|Smartphone |0.1      |\n",
            "|3502e383-1c37-425d-bb7a-3a7fd9a00b83|Monitor    |0.15     |\n",
            "+------------------------------------+-----------+---------+\n",
            "only showing top 20 rows\n",
            "\n"
          ]
        },
        {
          "output_type": "execute_result",
          "data": {
            "text/plain": [
              "(None, 5654)"
            ]
          },
          "metadata": {},
          "execution_count": 50
        }
      ]
    },
    {
      "cell_type": "code",
      "source": [
        "############# Data frame updation due to day extraction #############\n",
        "####### 3) Day wise tax and sales collection\n",
        "from pyspark.sql.functions import dayofweek, month, year, date_format\n",
        "\n",
        "cust_trans_product_prom_df = cust_trans_product_prom_df.withColumn(\"day_name\", date_format(\"date\", \"EEEE\")) \\\n",
        "                                                         .withColumn(\"month\", month(\"date\")) \\\n",
        "                                                         .withColumn(\"year\", year(\"date\"))\n",
        "\n",
        "day_level_sales_tax = cust_trans_product_prom_df.groupBy('day_name').agg(sum('price').alias('Total_sales'),sum('tax_rate').alias('Total_tax')).orderBy(col(\"Total_sales\").desc(), col(\"Total_tax\"))\n",
        "day_level_sales_tax.show()"
      ],
      "metadata": {
        "id": "n33aTXK510FP",
        "colab": {
          "base_uri": "https://localhost:8080/"
        },
        "outputId": "ebdd2234-f5fa-4fa9-a3ff-99bfcaf5f0ae"
      },
      "execution_count": 60,
      "outputs": [
        {
          "output_type": "stream",
          "name": "stdout",
          "text": [
            "+---------+------------------+------------------+\n",
            "| day_name|       Total_sales|         Total_tax|\n",
            "+---------+------------------+------------------+\n",
            "| Saturday| 242700.3800000003|116.79999999999967|\n",
            "|  Tuesday|238988.73000000027|115.47999999999959|\n",
            "| Thursday|231102.13999999998|112.00999999999952|\n",
            "|   Friday|220229.54000000018|111.78999999999989|\n",
            "|   Sunday|220060.66000000003|109.02999999999969|\n",
            "|   Monday|198095.16999999995| 96.47999999999968|\n",
            "|Wednesday| 197339.8299999999|  94.6399999999998|\n",
            "+---------+------------------+------------------+\n",
            "\n"
          ]
        }
      ]
    },
    {
      "cell_type": "code",
      "source": [
        "######## 4) total amount spend by each customer over time\n",
        "amount_spent_by_time = cust_trans_product_prom_df.groupBy('customer_id','date').agg(sum('price').alias('Total_amount')).orderBy(col(\"Total_amount\").desc())\n",
        "amount_spent_by_time.show(truncate = False)"
      ],
      "metadata": {
        "id": "7CGt1TnA10H9",
        "colab": {
          "base_uri": "https://localhost:8080/"
        },
        "outputId": "af688465-c14c-41be-8f5c-34dfca0f8814"
      },
      "execution_count": 52,
      "outputs": [
        {
          "output_type": "stream",
          "name": "stdout",
          "text": [
            "+------------------------------------+----------+------------------+\n",
            "|customer_id                         |date      |Total_amount      |\n",
            "+------------------------------------+----------+------------------+\n",
            "|eaa9ebe5-453b-4065-970c-e233b866bbcb|2023-03-14|1973.38           |\n",
            "|d0e207f2-85be-4648-bf30-7649d3e69659|2023-02-23|1441.0900000000001|\n",
            "|d9057db6-e3ce-4794-a290-cf2a3e2e2c1c|2023-03-10|1380.7            |\n",
            "|b4a69b2e-8085-44cb-8d21-131882bf2f98|2023-12-11|1377.54           |\n",
            "|1baf9b9b-2bdc-435b-a3b3-cc063b7cca93|2023-11-17|1365.75           |\n",
            "|e17ba4ab-501b-4c82-899f-586f5b8c6604|2023-08-08|1330.68           |\n",
            "|8025e5f6-c1bc-474d-9564-1f0cdb66fc21|2023-01-12|1330.31           |\n",
            "|9cef33be-712b-41f4-b24f-0f5835aec941|2023-04-18|1325.62           |\n",
            "|0e7cde04-97be-48a6-a0c0-65a9bc9d767d|2023-05-21|1320.64           |\n",
            "|1e064033-a04e-4d45-ad3f-b638c858036a|2023-10-10|1314.46           |\n",
            "|ddce8d76-6739-4894-bbeb-86637219a160|2023-04-03|1310.54           |\n",
            "|c917621a-d821-49c1-9862-de686b93fab5|2023-09-28|1309.24           |\n",
            "|899da1d5-e9b5-40fc-8063-f0915774166b|2023-08-27|1304.88           |\n",
            "|9fe09c3f-5234-4c30-a843-b3f10bff7c29|2023-04-30|1294.67           |\n",
            "|a27d7f36-e445-441a-bf2c-d84e90f11e1a|2023-11-08|1285.46           |\n",
            "|c89b29b9-e574-4719-9e3c-0d3b974d767d|2023-10-17|1277.51           |\n",
            "|0da1857c-cb8d-4cb3-ba86-75a99801b409|2023-10-17|1264.42           |\n",
            "|245185d3-d582-44d2-866a-3bf92f01ab05|2023-12-28|1257.54           |\n",
            "|f393c477-cec2-487b-b34f-e5778c9c78a7|2023-04-02|1256.83           |\n",
            "|d5ac2738-36c7-4d93-9729-363f7dc9d121|2023-11-13|1253.3600000000001|\n",
            "+------------------------------------+----------+------------------+\n",
            "only showing top 20 rows\n",
            "\n"
          ]
        }
      ]
    },
    {
      "cell_type": "code",
      "source": [
        "######### 5) product performance metrics\n",
        "product_performance_metrics = cust_trans_product_prom_df.groupBy('description').agg(sum('price').alias('Total_sales'),sum('tax_rate').alias('Total_tax')).orderBy(col(\"Total_sales\").desc(), col(\"Total_tax\"))\n",
        "product_performance_metrics.show()"
      ],
      "metadata": {
        "id": "NK-UuMPQ10LP",
        "colab": {
          "base_uri": "https://localhost:8080/"
        },
        "outputId": "56a3aded-5ad6-4347-acfa-b9a11e1894db"
      },
      "execution_count": 53,
      "outputs": [
        {
          "output_type": "stream",
          "name": "stdout",
          "text": [
            "+-----------+------------------+-----------------+\n",
            "|description|       Total_sales|        Total_tax|\n",
            "+-----------+------------------+-----------------+\n",
            "|     Tablet| 183921.9699999999|88.05999999999982|\n",
            "| Headphones|172990.33000000005|83.58000000000006|\n",
            "| Smartwatch|167287.14999999994|84.59000000000003|\n",
            "|     Camera|         166177.71|79.94000000000001|\n",
            "| Smartphone|161504.53999999992| 75.6900000000001|\n",
            "|    Printer|         155836.33|            70.35|\n",
            "|    Monitor| 154500.2199999998|86.69000000000025|\n",
            "|      Mouse|134075.78000000006|67.26000000000023|\n",
            "|     Laptop|130587.39999999998|61.95000000000026|\n",
            "|   Keyboard|121635.02000000012|58.12000000000021|\n",
            "+-----------+------------------+-----------------+\n",
            "\n"
          ]
        }
      ]
    },
    {
      "cell_type": "code",
      "source": [
        "######## 6) geographical sales distribution\n",
        "geographical_sales_distribution = cust_trans_product_prom_df.groupBy('geographical_region').agg(sum('price').alias('Total_sales'),sum('tax_rate').alias('Total_tax')).orderBy(col(\"Total_sales\").desc(), col(\"Total_tax\"))\n",
        "geographical_sales_distribution.show()"
      ],
      "metadata": {
        "id": "LTo6ilod10Nr",
        "colab": {
          "base_uri": "https://localhost:8080/"
        },
        "outputId": "dbdd23a7-f2a9-483e-fa01-e2fb08c7a3d3"
      },
      "execution_count": 54,
      "outputs": [
        {
          "output_type": "stream",
          "name": "stdout",
          "text": [
            "+-------------------+------------------+------------------+\n",
            "|geographical_region|       Total_sales|         Total_tax|\n",
            "+-------------------+------------------+------------------+\n",
            "|          Australia|429064.55000000005|209.83999999999637|\n",
            "|      North America| 407675.9999999993|198.82999999999686|\n",
            "|               Asia| 392061.9300000002|194.75999999999672|\n",
            "|             Europe|319713.96999999933|152.79999999999822|\n",
            "+-------------------+------------------+------------------+\n",
            "\n"
          ]
        }
      ]
    },
    {
      "cell_type": "code",
      "source": [
        "cust_trans_product_prom_df.show()"
      ],
      "metadata": {
        "colab": {
          "base_uri": "https://localhost:8080/"
        },
        "id": "Enci_RSZu3pq",
        "outputId": "cf350675-d4cf-4ce1-fa86-5cb452f56e7b"
      },
      "execution_count": 56,
      "outputs": [
        {
          "output_type": "stream",
          "name": "stdout",
          "text": [
            "+--------------------+---------------+----------------+-------------------+--------------------+--------------------+--------------------+----------+--------------------+------+--------+-----------+--------------------+--------+---------+-----+----+\n",
            "|         customer_id|           name|membership_level|geographical_region|    purchase_history|      transaction_id|         customer_id|      date|          product_id| price|quantity|description|          attributes|tax_rate| day_name|month|year|\n",
            "+--------------------+---------------+----------------+-------------------+--------------------+--------------------+--------------------+----------+--------------------+------+--------+-----------+--------------------+--------+---------+-----+----+\n",
            "|9742cbb9-c28e-47d...|Francisco Patel|            Gold|      North America|['d5dc3b47-3242-4...|dbc5a987-9746-41f...|9742cbb9-c28e-47d...|2023-08-23|a6f80668-73a3-4f6...|472.44|       3|      Mouse|{'color': 'red', ...|    0.15|Wednesday|    8|2023|\n",
            "|9742cbb9-c28e-47d...|Francisco Patel|            Gold|      North America|['d5dc3b47-3242-4...|dbc5a987-9746-41f...|9742cbb9-c28e-47d...|2023-08-23|8c3151ae-2961-4c3...|227.19|       3| Smartphone|{'color': 'blue',...|     0.2|Wednesday|    8|2023|\n",
            "|655db238-14e9-42b...| Charles Burton|            Gold|               Asia|['aa9d902d-ec82-4...|3339dc37-ac33-4a8...|655db238-14e9-42b...|2023-09-19|f6314c87-f117-4db...| 33.44|       2|    Monitor|{'color': 'white'...|     0.2|  Tuesday|    9|2023|\n",
            "|655db238-14e9-42b...| Charles Burton|            Gold|               Asia|['aa9d902d-ec82-4...|c7701702-1bcf-41d...|655db238-14e9-42b...|2023-03-02|7eeb70cf-dc59-4d4...| 420.0|       2|     Camera|{'color': 'black'...|     0.1| Thursday|    3|2023|\n",
            "|655db238-14e9-42b...| Charles Burton|            Gold|               Asia|['aa9d902d-ec82-4...|c7701702-1bcf-41d...|655db238-14e9-42b...|2023-03-02|458c4344-3db7-4f3...| 366.5|       2|    Monitor|{'color': 'black'...|    0.07| Thursday|    3|2023|\n",
            "|655db238-14e9-42b...| Charles Burton|            Gold|               Asia|['aa9d902d-ec82-4...|5c3eaa1e-2271-4bf...|655db238-14e9-42b...|2023-11-24|5b2949ae-8ace-4d6...| 29.35|       2|    Monitor|{'color': 'blue',...|    0.15|   Friday|   11|2023|\n",
            "|655db238-14e9-42b...| Charles Burton|            Gold|               Asia|['aa9d902d-ec82-4...|5c3eaa1e-2271-4bf...|655db238-14e9-42b...|2023-11-24|5846d468-74c7-4fd...|381.72|       5| Smartwatch|{'color': 'black'...|    0.15|   Friday|   11|2023|\n",
            "|655db238-14e9-42b...| Charles Burton|            Gold|               Asia|['aa9d902d-ec82-4...|5c3eaa1e-2271-4bf...|655db238-14e9-42b...|2023-11-24|9cbe19fb-bf33-400...|133.59|       2| Smartphone|{'color': 'red', ...|    0.15|   Friday|   11|2023|\n",
            "|efc925cb-f306-48d...|  Donna Dickson|            Gold|             Europe|['84f738d0-d0ac-4...|1a1392c9-0d07-484...|efc925cb-f306-48d...|2023-08-17|5a3754a5-c2d2-4bd...|315.17|       3|    Printer|{'color': 'black'...|    0.07| Thursday|    8|2023|\n",
            "|efc925cb-f306-48d...|  Donna Dickson|            Gold|             Europe|['84f738d0-d0ac-4...|1a1392c9-0d07-484...|efc925cb-f306-48d...|2023-08-17|a1c82576-98b0-406...|280.47|       3| Headphones|{'color': 'blue',...|     0.1| Thursday|    8|2023|\n",
            "|efc925cb-f306-48d...|  Donna Dickson|            Gold|             Europe|['84f738d0-d0ac-4...|b1767fa6-7adf-410...|efc925cb-f306-48d...|2023-06-30|6f093da2-dfe6-41c...|306.79|       4|    Monitor|{'color': 'black'...|     0.2|   Friday|    6|2023|\n",
            "|efc925cb-f306-48d...|  Donna Dickson|            Gold|             Europe|['84f738d0-d0ac-4...|41952c68-2ff9-401...|efc925cb-f306-48d...|2023-04-07|f79b2a9c-3a30-4bb...|150.61|       2|     Tablet|{'color': 'white'...|     0.1|   Friday|    4|2023|\n",
            "|4a2168d7-170a-4d8...|  Tara Williams|          Silver|      North America|['1a5919e6-50f7-4...|a07a3bad-c0b8-4ff...|4a2168d7-170a-4d8...|2023-08-09|47c2daa6-19a7-486...|  39.4|       1| Smartwatch|{'color': 'blue',...|    0.15|Wednesday|    8|2023|\n",
            "|4a2168d7-170a-4d8...|  Tara Williams|          Silver|      North America|['1a5919e6-50f7-4...|a4c1659d-5c83-47e...|4a2168d7-170a-4d8...|2023-10-31|3de766c3-350a-4b2...|334.77|       5|      Mouse|{'color': 'red', ...|    0.07|  Tuesday|   10|2023|\n",
            "|4a2168d7-170a-4d8...|  Tara Williams|          Silver|      North America|['1a5919e6-50f7-4...|aae93a5d-d33f-492...|4a2168d7-170a-4d8...|2023-10-09|dc774f23-b4cc-49a...| 84.91|       2|    Printer|{'color': 'black'...|     0.1|   Monday|   10|2023|\n",
            "|8619066f-21d0-409...|  Richard Duran|          Silver|          Australia|['5c1e9cd9-4f01-4...|e346b3d2-fb2e-406...|8619066f-21d0-409...|2023-01-16|9c7a55e4-ffdf-4da...|459.64|       1|     Laptop|{'color': 'white'...|     0.2|   Monday|    1|2023|\n",
            "|8619066f-21d0-409...|  Richard Duran|          Silver|          Australia|['5c1e9cd9-4f01-4...|e346b3d2-fb2e-406...|8619066f-21d0-409...|2023-01-16|4e5b6c02-241f-478...|115.16|       3|    Printer|{'color': 'red', ...|     0.1|   Monday|    1|2023|\n",
            "|8619066f-21d0-409...|  Richard Duran|          Silver|          Australia|['5c1e9cd9-4f01-4...|b2fcc94c-19c8-497...|8619066f-21d0-409...|2023-12-27|bd20187a-f13f-4ba...|266.44|       3| Smartphone|{'color': 'blue',...|    0.15|Wednesday|   12|2023|\n",
            "|8619066f-21d0-409...|  Richard Duran|          Silver|          Australia|['5c1e9cd9-4f01-4...|b2fcc94c-19c8-497...|8619066f-21d0-409...|2023-12-27|ae2ddc58-0f2a-43c...|236.45|       1|    Printer|{'color': 'white'...|     0.1|Wednesday|   12|2023|\n",
            "|8619066f-21d0-409...|  Richard Duran|          Silver|          Australia|['5c1e9cd9-4f01-4...|b2fcc94c-19c8-497...|8619066f-21d0-409...|2023-12-27|7750a4cd-e8ec-439...| 53.64|       1|    Monitor|{'color': 'black'...|     0.2|Wednesday|   12|2023|\n",
            "+--------------------+---------------+----------------+-------------------+--------------------+--------------------+--------------------+----------+--------------------+------+--------+-----------+--------------------+--------+---------+-----+----+\n",
            "only showing top 20 rows\n",
            "\n"
          ]
        }
      ]
    },
    {
      "cell_type": "code",
      "source": [
        "####### 7) promotion impact analysis\n",
        "promtion_impact_raw = cust_trans_product_prom_df.select('description','price','discount','tax_rate','day_name','month')\n",
        "promtion_impact_raw.show()"
      ],
      "metadata": {
        "colab": {
          "base_uri": "https://localhost:8080/"
        },
        "id": "yz3TJSyPlcaS",
        "outputId": "40466e09-2735-4343-9664-939859fc7705"
      },
      "execution_count": 61,
      "outputs": [
        {
          "output_type": "stream",
          "name": "stdout",
          "text": [
            "+-----------+------+--------+--------+---------+-----+\n",
            "|description| price|discount|tax_rate| day_name|month|\n",
            "+-----------+------+--------+--------+---------+-----+\n",
            "|      Mouse|472.44|    NULL|    0.15|Wednesday|    8|\n",
            "| Smartphone|227.19|    NULL|     0.2|Wednesday|    8|\n",
            "|    Monitor| 33.44|   47.19|     0.2|  Tuesday|    9|\n",
            "|     Camera| 420.0|   17.79|     0.1| Thursday|    3|\n",
            "|    Monitor| 366.5|   49.08|    0.07| Thursday|    3|\n",
            "|    Monitor| 29.35|   40.65|    0.15|   Friday|   11|\n",
            "| Smartwatch|381.72|   33.44|    0.15|   Friday|   11|\n",
            "| Smartphone|133.59|    NULL|    0.15|   Friday|   11|\n",
            "|    Printer|315.17|     5.4|    0.07| Thursday|    8|\n",
            "| Headphones|280.47|   40.65|     0.1| Thursday|    8|\n",
            "|    Monitor|306.79|   38.76|     0.2|   Friday|    6|\n",
            "|     Tablet|150.61|    6.28|     0.1|   Friday|    4|\n",
            "| Smartwatch|  39.4|    NULL|    0.15|Wednesday|    8|\n",
            "|      Mouse|334.77|    NULL|    0.07|  Tuesday|   10|\n",
            "|    Printer| 84.91|    6.85|     0.1|   Monday|   10|\n",
            "|     Laptop|459.64|   10.11|     0.2|   Monday|    1|\n",
            "|    Printer|115.16|   11.33|     0.1|   Monday|    1|\n",
            "| Smartphone|266.44|    NULL|    0.15|Wednesday|   12|\n",
            "|    Printer|236.45|    NULL|     0.1|Wednesday|   12|\n",
            "|    Monitor| 53.64|    NULL|     0.2|Wednesday|   12|\n",
            "+-----------+------+--------+--------+---------+-----+\n",
            "only showing top 20 rows\n",
            "\n"
          ]
        }
      ]
    },
    {
      "cell_type": "code",
      "source": [
        "# promtion_impact_raw.select('discount').isnull()\n",
        "############ spliting the data based on the discount applied and no discount applied\n",
        "withtout_disc = promtion_impact_raw.filter(promtion_impact_raw['discount'].isNull())\n",
        "with_disc = promtion_impact_raw.filter(promtion_impact_raw['discount'].isNotNull())\n"
      ],
      "metadata": {
        "id": "WsjNDvGTlceU"
      },
      "execution_count": 62,
      "outputs": []
    },
    {
      "cell_type": "code",
      "source": [
        "promotion_impact_on_item = with_disc.groupBy('description').agg(sum('price').alias('Total_sales'),sum('tax_rate').alias('Total_tax')).orderBy(col(\"Total_sales\").desc(), col(\"Total_tax\"))\n",
        "no_promotion_impact_on_item = withtout_disc.groupBy('description').agg(sum('price').alias('Total_sales'),sum('tax_rate').alias('Total_tax')).orderBy(col(\"Total_sales\").desc(), col(\"Total_tax\"))\n",
        "\n",
        "promotion_impact_on_item.show(),no_promotion_impact_on_item.show()\n"
      ],
      "metadata": {
        "colab": {
          "base_uri": "https://localhost:8080/"
        },
        "id": "wRAcFa29lch_",
        "outputId": "555d3f50-ee09-49ab-91c9-cb3485581bd3"
      },
      "execution_count": 63,
      "outputs": [
        {
          "output_type": "stream",
          "name": "stdout",
          "text": [
            "+-----------+------------------+------------------+\n",
            "|description|       Total_sales|         Total_tax|\n",
            "+-----------+------------------+------------------+\n",
            "|    Monitor|127274.81000000003| 73.64000000000019|\n",
            "|     Tablet|117715.95000000003| 59.08000000000019|\n",
            "| Smartphone|114783.05999999991| 49.17000000000007|\n",
            "|     Camera|114471.30999999997| 55.30000000000006|\n",
            "|    Printer|113944.96999999999| 51.14000000000016|\n",
            "| Headphones|107429.41999999997| 50.70000000000014|\n",
            "|   Keyboard|105559.90000000008|52.620000000000175|\n",
            "| Smartwatch|104978.12999999999| 53.40000000000011|\n",
            "|     Laptop| 90944.04999999997|41.180000000000106|\n",
            "|      Mouse| 88141.67000000006|42.030000000000086|\n",
            "+-----------+------------------+------------------+\n",
            "\n",
            "+-----------+------------------+------------------+\n",
            "|description|       Total_sales|         Total_tax|\n",
            "+-----------+------------------+------------------+\n",
            "|     Tablet| 66206.01999999997|28.979999999999972|\n",
            "| Headphones| 65560.91000000003|32.880000000000024|\n",
            "| Smartwatch| 62309.02000000004|31.190000000000037|\n",
            "|     Camera| 51706.40000000001|24.639999999999986|\n",
            "| Smartphone|46721.479999999996|26.519999999999975|\n",
            "|      Mouse| 45934.10999999999| 25.22999999999999|\n",
            "|    Printer| 41891.35999999998| 19.21000000000001|\n",
            "|     Laptop| 39643.35000000001| 20.76999999999999|\n",
            "|    Monitor|27225.410000000007|13.050000000000008|\n",
            "|   Keyboard|          16075.12| 5.499999999999999|\n",
            "+-----------+------------------+------------------+\n",
            "\n"
          ]
        },
        {
          "output_type": "execute_result",
          "data": {
            "text/plain": [
              "(None, None)"
            ]
          },
          "metadata": {},
          "execution_count": 63
        }
      ]
    },
    {
      "cell_type": "code",
      "source": [
        "promotion_impact_on_month = with_disc.groupBy('month').agg(sum('price').alias('Total_sales'),sum('tax_rate').alias('Total_tax')).orderBy(col(\"month\").asc())\n",
        "no_promotion_impact_on_month = withtout_disc.groupBy('month').agg(sum('price').alias('Total_sales'),sum('tax_rate').alias('Total_tax')).orderBy(col(\"month\").asc())\n",
        "\n",
        "promotion_impact_on_month.show(),no_promotion_impact_on_month.show()\n"
      ],
      "metadata": {
        "colab": {
          "base_uri": "https://localhost:8080/"
        },
        "id": "KX2nygOpoz0Q",
        "outputId": "2905f241-9501-49c6-ba32-baa7efd1bf60"
      },
      "execution_count": 64,
      "outputs": [
        {
          "output_type": "stream",
          "name": "stdout",
          "text": [
            "+-----+-----------------+------------------+\n",
            "|month|      Total_sales|         Total_tax|\n",
            "+-----+-----------------+------------------+\n",
            "|    1|91432.65000000007| 44.33000000000005|\n",
            "|    2|76862.18999999997| 38.55000000000002|\n",
            "|    3|87236.74000000002| 42.60000000000011|\n",
            "|    4|90333.43000000002|45.230000000000096|\n",
            "|    5|92913.06000000004| 45.76000000000007|\n",
            "|    6|         84020.54| 39.53000000000004|\n",
            "|    7|98695.13999999996| 46.79000000000012|\n",
            "|    8|92365.96000000004|44.820000000000086|\n",
            "|    9|96101.31000000001|  45.2400000000001|\n",
            "|   10|95210.99999999997|  48.3500000000001|\n",
            "|   11| 93078.7999999999|43.720000000000084|\n",
            "|   12|86992.45000000011| 43.34000000000008|\n",
            "+-----+-----------------+------------------+\n",
            "\n",
            "+-----+------------------+------------------+\n",
            "|month|       Total_sales|         Total_tax|\n",
            "+-----+------------------+------------------+\n",
            "|    1| 45878.08000000002| 20.44000000000001|\n",
            "|    2|29958.009999999995| 14.23999999999999|\n",
            "|    3| 38463.45000000002|20.069999999999997|\n",
            "|    4|43737.839999999975|22.459999999999987|\n",
            "|    5|39421.060000000005|             18.72|\n",
            "|    6| 32333.31000000001|16.539999999999992|\n",
            "|    7| 41029.70000000002|             18.15|\n",
            "|    8|43639.740000000005| 21.36999999999999|\n",
            "|    9| 39186.22999999999|19.149999999999995|\n",
            "|   10|40881.520000000004| 20.84999999999999|\n",
            "|   11|33634.289999999986|17.329999999999995|\n",
            "|   12| 35109.94999999998|             18.65|\n",
            "+-----+------------------+------------------+\n",
            "\n"
          ]
        },
        {
          "output_type": "execute_result",
          "data": {
            "text/plain": [
              "(None, None)"
            ]
          },
          "metadata": {},
          "execution_count": 64
        }
      ]
    },
    {
      "cell_type": "code",
      "source": [
        "promotion_impact_on_day = with_disc.groupBy('day_name').agg(sum('price').alias('Total_sales'),sum('tax_rate').alias('Total_tax')).orderBy(col(\"Total_sales\").desc(), col(\"Total_tax\"))\n",
        "no_promotion_impact_on_day = withtout_disc.groupBy('day_name').agg(sum('price').alias('Total_sales'),sum('tax_rate').alias('Total_tax')).orderBy(col(\"Total_sales\").desc(), col(\"Total_tax\"))\n",
        "\n",
        "promotion_impact_on_day.show(),no_promotion_impact_on_day.show()\n"
      ],
      "metadata": {
        "colab": {
          "base_uri": "https://localhost:8080/"
        },
        "id": "mDtFfXa7oz3A",
        "outputId": "403a9d2a-0e71-4a38-ea9f-51b9b8a86394"
      },
      "execution_count": 65,
      "outputs": [
        {
          "output_type": "stream",
          "name": "stdout",
          "text": [
            "+---------+------------------+-----------------+\n",
            "| day_name|       Total_sales|        Total_tax|\n",
            "+---------+------------------+-----------------+\n",
            "| Saturday|169794.43000000002| 80.7000000000001|\n",
            "| Thursday|162718.23999999993|            77.69|\n",
            "|  Tuesday|         161253.71|79.13000000000005|\n",
            "|   Friday|159741.35999999993|80.85000000000008|\n",
            "|   Sunday|154213.50999999992|            74.79|\n",
            "|   Monday| 139239.9700000001| 69.0400000000001|\n",
            "|Wednesday|138282.05000000005|66.06000000000022|\n",
            "+---------+------------------+-----------------+\n",
            "\n",
            "+---------+------------------+------------------+\n",
            "| day_name|       Total_sales|         Total_tax|\n",
            "+---------+------------------+------------------+\n",
            "|  Tuesday|          77735.02| 36.35000000000001|\n",
            "| Saturday| 72905.94999999994| 36.10000000000003|\n",
            "| Thursday| 68383.89999999998| 34.32000000000002|\n",
            "|   Sunday| 65847.15000000004|34.239999999999995|\n",
            "|   Friday| 60488.18000000005|30.940000000000005|\n",
            "|Wednesday|59057.780000000006|28.580000000000016|\n",
            "|   Monday|           58855.2|             27.44|\n",
            "+---------+------------------+------------------+\n",
            "\n"
          ]
        },
        {
          "output_type": "execute_result",
          "data": {
            "text/plain": [
              "(None, None)"
            ]
          },
          "metadata": {},
          "execution_count": 65
        }
      ]
    },
    {
      "cell_type": "code",
      "source": [
        "##### 8) tax rate analyses ####\n",
        "tax_rate_df = cust_trans_product_prom_df.select(\"tax_rate\",\"price\")\n"
      ],
      "metadata": {
        "id": "JgIKMWwstyB6"
      },
      "execution_count": 67,
      "outputs": []
    },
    {
      "cell_type": "code",
      "source": [
        "############## deviding the tax rates into three buckets for analysis ###################\n",
        "from pyspark.sql.functions import expr\n",
        "from pyspark.sql.types import StringType\n",
        "\n",
        "# Calculate percentiles\n",
        "percentiles = tax_rate_df.approxQuantile(\"tax_rate\", [0.25, 0.5, 0.75], 0.01)\n",
        "\n",
        "# Define a function to categorize values based on percentiles\n",
        "def categorize_percentile(value):\n",
        "    if value < percentiles[0]:\n",
        "        return \"very low\"\n",
        "    elif value < percentiles[1]:\n",
        "        return \"low\"\n",
        "    elif value < percentiles[2]:\n",
        "        return \"medium\"\n",
        "    else:\n",
        "        return \"high\"\n",
        "\n",
        "# Register the function as a UDF\n",
        "categorize_percentile_udf = udf(categorize_percentile, StringType())\n",
        "\n",
        "# Apply the UDF to create a new column with categories\n",
        "tax_rate_df = tax_rate_df.withColumn(\"category\", categorize_percentile_udf(tax_rate_df[\"tax_rate\"]))\n",
        "\n",
        "# Show the DataFrame with categories\n",
        "# tax_rate_df.show()\n"
      ],
      "metadata": {
        "id": "qwCJ4hlUtyFe"
      },
      "execution_count": 68,
      "outputs": []
    },
    {
      "cell_type": "code",
      "source": [
        "###bucket wise tax analysis on sales\n",
        "tax_rate_df_analysis = tax_rate_df.groupBy('category').agg(sum('price').alias('Total_sales'),sum('tax_rate').alias('Total_tax')).orderBy(col(\"Total_sales\").desc(), col(\"Total_tax\"))\n",
        "tax_rate_df_analysis.show()"
      ],
      "metadata": {
        "colab": {
          "base_uri": "https://localhost:8080/"
        },
        "id": "QFGuow0dtyHp",
        "outputId": "e6b26b70-1498-4305-ac4e-bdce4541f6f0"
      },
      "execution_count": 69,
      "outputs": [
        {
          "output_type": "stream",
          "name": "stdout",
          "text": [
            "+--------+-----------------+------------------+\n",
            "|category|      Total_sales|         Total_tax|\n",
            "+--------+-----------------+------------------+\n",
            "|    high|699221.7099999996| 473.4499999999781|\n",
            "|  medium|434981.0899999999| 170.4999999999946|\n",
            "|     low|414313.6500000002|112.27999999999554|\n",
            "+--------+-----------------+------------------+\n",
            "\n"
          ]
        }
      ]
    },
    {
      "cell_type": "code",
      "source": [
        "###### 9) & 10) coss-selling and upselling and marketbasket analysis\n",
        "#### Apiori algorithm\n",
        "from mlxtend.frequent_patterns import apriori\n",
        "from mlxtend.frequent_patterns import association_rules"
      ],
      "metadata": {
        "id": "2hQYfDcm10Si"
      },
      "execution_count": 70,
      "outputs": []
    },
    {
      "cell_type": "code",
      "source": [
        "from pyspark.sql.functions import lit, when, col, count\n",
        "\n",
        "mba_df = cust_trans_product_prom_df.select('transaction_id','description')\n",
        "mba_df = mba_df.withColumn(\"buy\",lit(1))\n",
        "mba_df = mba_df.groupby('transaction_id').pivot(\"description\").agg(count(when(col(\"buy\") >= 1, 1)))\n",
        "mba_df = mba_df.fillna(0)\n",
        "mba_df = mba_df.drop('transaction_id')\n",
        "mba_df.show(truncate=False)"
      ],
      "metadata": {
        "colab": {
          "base_uri": "https://localhost:8080/"
        },
        "id": "bcNfcb84Y-y-",
        "outputId": "53bb9330-c690-46b9-c0bf-354b9a717578"
      },
      "execution_count": 71,
      "outputs": [
        {
          "output_type": "stream",
          "name": "stderr",
          "text": [
            "/usr/local/lib/python3.10/dist-packages/ipykernel/ipkernel.py:283: DeprecationWarning: `should_run_async` will not call `transform_cell` automatically in the future. Please pass the result to `transformed_cell` argument and any exception that happen during thetransform in `preprocessing_exc_tuple` in IPython 7.17 and above.\n",
            "  and should_run_async(code)\n"
          ]
        },
        {
          "output_type": "stream",
          "name": "stdout",
          "text": [
            "+------+----------+--------+------+-------+-----+-------+----------+----------+------+\n",
            "|Camera|Headphones|Keyboard|Laptop|Monitor|Mouse|Printer|Smartphone|Smartwatch|Tablet|\n",
            "+------+----------+--------+------+-------+-----+-------+----------+----------+------+\n",
            "|0     |0         |0       |0     |1      |0    |0      |0         |0         |0     |\n",
            "|1     |0         |0       |1     |1      |0    |0      |0         |0         |0     |\n",
            "|0     |0         |0       |0     |1      |0    |0      |0         |0         |1     |\n",
            "|0     |0         |1       |0     |0      |1    |0      |0         |0         |0     |\n",
            "|0     |0         |0       |0     |0      |0    |1      |0         |0         |0     |\n",
            "|0     |0         |0       |0     |0      |0    |0      |0         |0         |1     |\n",
            "|0     |0         |1       |0     |0      |0    |0      |0         |0         |0     |\n",
            "|0     |0         |0       |0     |0      |1    |0      |0         |0         |1     |\n",
            "|0     |1         |0       |0     |0      |0    |1      |0         |0         |0     |\n",
            "|0     |0         |0       |0     |0      |0    |0      |0         |1         |0     |\n",
            "|0     |0         |0       |0     |1      |1    |0      |0         |0         |0     |\n",
            "|1     |0         |1       |0     |0      |0    |0      |0         |1         |0     |\n",
            "|0     |1         |0       |0     |0      |1    |0      |0         |1         |0     |\n",
            "|0     |2         |0       |0     |0      |0    |0      |0         |0         |0     |\n",
            "|1     |0         |0       |1     |0      |0    |1      |0         |0         |0     |\n",
            "|0     |1         |1       |0     |0      |0    |0      |0         |0         |0     |\n",
            "|1     |0         |0       |0     |0      |0    |0      |0         |0         |0     |\n",
            "|0     |0         |1       |0     |0      |0    |0      |0         |1         |1     |\n",
            "|0     |0         |1       |0     |0      |0    |0      |1         |0         |0     |\n",
            "|1     |0         |0       |1     |0      |0    |0      |0         |0         |0     |\n",
            "+------+----------+--------+------+-------+-----+-------+----------+----------+------+\n",
            "only showing top 20 rows\n",
            "\n"
          ]
        }
      ]
    },
    {
      "cell_type": "code",
      "source": [
        "# Define a function to convert values greater than 1 to 1\n",
        "def convert_to_one(value):\n",
        "    return when(col(value) > 1, 1).otherwise(col(value))\n",
        "\n",
        "# Apply the function to all numeric columns in the DataFrame\n",
        "for col_name in mba_df.columns:\n",
        "    if col_name != 'transaction_id':  # Skip non-numeric columns\n",
        "        mba_df = mba_df.withColumn(col_name, convert_to_one(col_name))"
      ],
      "metadata": {
        "colab": {
          "base_uri": "https://localhost:8080/"
        },
        "id": "ZN8HqEppjfhl",
        "outputId": "66f57872-0cfa-436c-f7b6-bbc984e1de34"
      },
      "execution_count": 72,
      "outputs": [
        {
          "output_type": "stream",
          "name": "stderr",
          "text": [
            "/usr/local/lib/python3.10/dist-packages/ipykernel/ipkernel.py:283: DeprecationWarning: `should_run_async` will not call `transform_cell` automatically in the future. Please pass the result to `transformed_cell` argument and any exception that happen during thetransform in `preprocessing_exc_tuple` in IPython 7.17 and above.\n",
            "  and should_run_async(code)\n"
          ]
        }
      ]
    },
    {
      "cell_type": "code",
      "source": [
        "\"#applying the apriori algo\"\n",
        "frequent_itemsets = apriori(mba_df.toPandas(), min_support=0.2, use_colnames=True)\n",
        "rules = association_rules(frequent_itemsets, metric=\"lift\", min_threshold=1)"
      ],
      "metadata": {
        "id": "UPcNPIYG10Zz",
        "colab": {
          "base_uri": "https://localhost:8080/"
        },
        "outputId": "e0897333-cf17-4acc-fce7-66cdb6f157b7"
      },
      "execution_count": 73,
      "outputs": [
        {
          "output_type": "stream",
          "name": "stderr",
          "text": [
            "/usr/local/lib/python3.10/dist-packages/ipykernel/ipkernel.py:283: DeprecationWarning: `should_run_async` will not call `transform_cell` automatically in the future. Please pass the result to `transformed_cell` argument and any exception that happen during thetransform in `preprocessing_exc_tuple` in IPython 7.17 and above.\n",
            "  and should_run_async(code)\n",
            "/usr/local/lib/python3.10/dist-packages/pyspark/sql/pandas/utils.py:37: DeprecationWarning: distutils Version classes are deprecated. Use packaging.version instead.\n",
            "  if LooseVersion(pandas.__version__) < LooseVersion(minimum_pandas_version):\n",
            "/usr/local/lib/python3.10/dist-packages/pyspark/sql/pandas/utils.py:37: DeprecationWarning: distutils Version classes are deprecated. Use packaging.version instead.\n",
            "  if LooseVersion(pandas.__version__) < LooseVersion(minimum_pandas_version):\n",
            "/usr/local/lib/python3.10/dist-packages/mlxtend/frequent_patterns/fpcommon.py:110: DeprecationWarning: DataFrames with non-bool types result in worse computationalperformance and their support might be discontinued in the future.Please use a DataFrame with bool type\n",
            "  warnings.warn(\n"
          ]
        }
      ]
    },
    {
      "cell_type": "code",
      "source": [
        "frequent_itemsets"
      ],
      "metadata": {
        "id": "B3xxlCMb10ce",
        "colab": {
          "base_uri": "https://localhost:8080/",
          "height": 198
        },
        "outputId": "d73c6d5f-f703-4b9d-bdcd-092fa31dd1ca"
      },
      "execution_count": 74,
      "outputs": [
        {
          "output_type": "stream",
          "name": "stderr",
          "text": [
            "/usr/local/lib/python3.10/dist-packages/ipykernel/ipkernel.py:283: DeprecationWarning: `should_run_async` will not call `transform_cell` automatically in the future. Please pass the result to `transformed_cell` argument and any exception that happen during thetransform in `preprocessing_exc_tuple` in IPython 7.17 and above.\n",
            "  and should_run_async(code)\n"
          ]
        },
        {
          "output_type": "execute_result",
          "data": {
            "text/plain": [
              "   support      itemsets\n",
              "0    0.208  (Headphones)\n",
              "1    0.204  (Smartwatch)\n",
              "2    0.217      (Tablet)"
            ],
            "text/html": [
              "\n",
              "  <div id=\"df-185a8cd0-01e3-41eb-a905-a853c8122c36\" class=\"colab-df-container\">\n",
              "    <div>\n",
              "<style scoped>\n",
              "    .dataframe tbody tr th:only-of-type {\n",
              "        vertical-align: middle;\n",
              "    }\n",
              "\n",
              "    .dataframe tbody tr th {\n",
              "        vertical-align: top;\n",
              "    }\n",
              "\n",
              "    .dataframe thead th {\n",
              "        text-align: right;\n",
              "    }\n",
              "</style>\n",
              "<table border=\"1\" class=\"dataframe\">\n",
              "  <thead>\n",
              "    <tr style=\"text-align: right;\">\n",
              "      <th></th>\n",
              "      <th>support</th>\n",
              "      <th>itemsets</th>\n",
              "    </tr>\n",
              "  </thead>\n",
              "  <tbody>\n",
              "    <tr>\n",
              "      <th>0</th>\n",
              "      <td>0.208</td>\n",
              "      <td>(Headphones)</td>\n",
              "    </tr>\n",
              "    <tr>\n",
              "      <th>1</th>\n",
              "      <td>0.204</td>\n",
              "      <td>(Smartwatch)</td>\n",
              "    </tr>\n",
              "    <tr>\n",
              "      <th>2</th>\n",
              "      <td>0.217</td>\n",
              "      <td>(Tablet)</td>\n",
              "    </tr>\n",
              "  </tbody>\n",
              "</table>\n",
              "</div>\n",
              "    <div class=\"colab-df-buttons\">\n",
              "\n",
              "  <div class=\"colab-df-container\">\n",
              "    <button class=\"colab-df-convert\" onclick=\"convertToInteractive('df-185a8cd0-01e3-41eb-a905-a853c8122c36')\"\n",
              "            title=\"Convert this dataframe to an interactive table.\"\n",
              "            style=\"display:none;\">\n",
              "\n",
              "  <svg xmlns=\"http://www.w3.org/2000/svg\" height=\"24px\" viewBox=\"0 -960 960 960\">\n",
              "    <path d=\"M120-120v-720h720v720H120Zm60-500h600v-160H180v160Zm220 220h160v-160H400v160Zm0 220h160v-160H400v160ZM180-400h160v-160H180v160Zm440 0h160v-160H620v160ZM180-180h160v-160H180v160Zm440 0h160v-160H620v160Z\"/>\n",
              "  </svg>\n",
              "    </button>\n",
              "\n",
              "  <style>\n",
              "    .colab-df-container {\n",
              "      display:flex;\n",
              "      gap: 12px;\n",
              "    }\n",
              "\n",
              "    .colab-df-convert {\n",
              "      background-color: #E8F0FE;\n",
              "      border: none;\n",
              "      border-radius: 50%;\n",
              "      cursor: pointer;\n",
              "      display: none;\n",
              "      fill: #1967D2;\n",
              "      height: 32px;\n",
              "      padding: 0 0 0 0;\n",
              "      width: 32px;\n",
              "    }\n",
              "\n",
              "    .colab-df-convert:hover {\n",
              "      background-color: #E2EBFA;\n",
              "      box-shadow: 0px 1px 2px rgba(60, 64, 67, 0.3), 0px 1px 3px 1px rgba(60, 64, 67, 0.15);\n",
              "      fill: #174EA6;\n",
              "    }\n",
              "\n",
              "    .colab-df-buttons div {\n",
              "      margin-bottom: 4px;\n",
              "    }\n",
              "\n",
              "    [theme=dark] .colab-df-convert {\n",
              "      background-color: #3B4455;\n",
              "      fill: #D2E3FC;\n",
              "    }\n",
              "\n",
              "    [theme=dark] .colab-df-convert:hover {\n",
              "      background-color: #434B5C;\n",
              "      box-shadow: 0px 1px 3px 1px rgba(0, 0, 0, 0.15);\n",
              "      filter: drop-shadow(0px 1px 2px rgba(0, 0, 0, 0.3));\n",
              "      fill: #FFFFFF;\n",
              "    }\n",
              "  </style>\n",
              "\n",
              "    <script>\n",
              "      const buttonEl =\n",
              "        document.querySelector('#df-185a8cd0-01e3-41eb-a905-a853c8122c36 button.colab-df-convert');\n",
              "      buttonEl.style.display =\n",
              "        google.colab.kernel.accessAllowed ? 'block' : 'none';\n",
              "\n",
              "      async function convertToInteractive(key) {\n",
              "        const element = document.querySelector('#df-185a8cd0-01e3-41eb-a905-a853c8122c36');\n",
              "        const dataTable =\n",
              "          await google.colab.kernel.invokeFunction('convertToInteractive',\n",
              "                                                    [key], {});\n",
              "        if (!dataTable) return;\n",
              "\n",
              "        const docLinkHtml = 'Like what you see? Visit the ' +\n",
              "          '<a target=\"_blank\" href=https://colab.research.google.com/notebooks/data_table.ipynb>data table notebook</a>'\n",
              "          + ' to learn more about interactive tables.';\n",
              "        element.innerHTML = '';\n",
              "        dataTable['output_type'] = 'display_data';\n",
              "        await google.colab.output.renderOutput(dataTable, element);\n",
              "        const docLink = document.createElement('div');\n",
              "        docLink.innerHTML = docLinkHtml;\n",
              "        element.appendChild(docLink);\n",
              "      }\n",
              "    </script>\n",
              "  </div>\n",
              "\n",
              "\n",
              "<div id=\"df-e517479c-2085-43b8-a23a-fe668bf32fb0\">\n",
              "  <button class=\"colab-df-quickchart\" onclick=\"quickchart('df-e517479c-2085-43b8-a23a-fe668bf32fb0')\"\n",
              "            title=\"Suggest charts\"\n",
              "            style=\"display:none;\">\n",
              "\n",
              "<svg xmlns=\"http://www.w3.org/2000/svg\" height=\"24px\"viewBox=\"0 0 24 24\"\n",
              "     width=\"24px\">\n",
              "    <g>\n",
              "        <path d=\"M19 3H5c-1.1 0-2 .9-2 2v14c0 1.1.9 2 2 2h14c1.1 0 2-.9 2-2V5c0-1.1-.9-2-2-2zM9 17H7v-7h2v7zm4 0h-2V7h2v10zm4 0h-2v-4h2v4z\"/>\n",
              "    </g>\n",
              "</svg>\n",
              "  </button>\n",
              "\n",
              "<style>\n",
              "  .colab-df-quickchart {\n",
              "      --bg-color: #E8F0FE;\n",
              "      --fill-color: #1967D2;\n",
              "      --hover-bg-color: #E2EBFA;\n",
              "      --hover-fill-color: #174EA6;\n",
              "      --disabled-fill-color: #AAA;\n",
              "      --disabled-bg-color: #DDD;\n",
              "  }\n",
              "\n",
              "  [theme=dark] .colab-df-quickchart {\n",
              "      --bg-color: #3B4455;\n",
              "      --fill-color: #D2E3FC;\n",
              "      --hover-bg-color: #434B5C;\n",
              "      --hover-fill-color: #FFFFFF;\n",
              "      --disabled-bg-color: #3B4455;\n",
              "      --disabled-fill-color: #666;\n",
              "  }\n",
              "\n",
              "  .colab-df-quickchart {\n",
              "    background-color: var(--bg-color);\n",
              "    border: none;\n",
              "    border-radius: 50%;\n",
              "    cursor: pointer;\n",
              "    display: none;\n",
              "    fill: var(--fill-color);\n",
              "    height: 32px;\n",
              "    padding: 0;\n",
              "    width: 32px;\n",
              "  }\n",
              "\n",
              "  .colab-df-quickchart:hover {\n",
              "    background-color: var(--hover-bg-color);\n",
              "    box-shadow: 0 1px 2px rgba(60, 64, 67, 0.3), 0 1px 3px 1px rgba(60, 64, 67, 0.15);\n",
              "    fill: var(--button-hover-fill-color);\n",
              "  }\n",
              "\n",
              "  .colab-df-quickchart-complete:disabled,\n",
              "  .colab-df-quickchart-complete:disabled:hover {\n",
              "    background-color: var(--disabled-bg-color);\n",
              "    fill: var(--disabled-fill-color);\n",
              "    box-shadow: none;\n",
              "  }\n",
              "\n",
              "  .colab-df-spinner {\n",
              "    border: 2px solid var(--fill-color);\n",
              "    border-color: transparent;\n",
              "    border-bottom-color: var(--fill-color);\n",
              "    animation:\n",
              "      spin 1s steps(1) infinite;\n",
              "  }\n",
              "\n",
              "  @keyframes spin {\n",
              "    0% {\n",
              "      border-color: transparent;\n",
              "      border-bottom-color: var(--fill-color);\n",
              "      border-left-color: var(--fill-color);\n",
              "    }\n",
              "    20% {\n",
              "      border-color: transparent;\n",
              "      border-left-color: var(--fill-color);\n",
              "      border-top-color: var(--fill-color);\n",
              "    }\n",
              "    30% {\n",
              "      border-color: transparent;\n",
              "      border-left-color: var(--fill-color);\n",
              "      border-top-color: var(--fill-color);\n",
              "      border-right-color: var(--fill-color);\n",
              "    }\n",
              "    40% {\n",
              "      border-color: transparent;\n",
              "      border-right-color: var(--fill-color);\n",
              "      border-top-color: var(--fill-color);\n",
              "    }\n",
              "    60% {\n",
              "      border-color: transparent;\n",
              "      border-right-color: var(--fill-color);\n",
              "    }\n",
              "    80% {\n",
              "      border-color: transparent;\n",
              "      border-right-color: var(--fill-color);\n",
              "      border-bottom-color: var(--fill-color);\n",
              "    }\n",
              "    90% {\n",
              "      border-color: transparent;\n",
              "      border-bottom-color: var(--fill-color);\n",
              "    }\n",
              "  }\n",
              "</style>\n",
              "\n",
              "  <script>\n",
              "    async function quickchart(key) {\n",
              "      const quickchartButtonEl =\n",
              "        document.querySelector('#' + key + ' button');\n",
              "      quickchartButtonEl.disabled = true;  // To prevent multiple clicks.\n",
              "      quickchartButtonEl.classList.add('colab-df-spinner');\n",
              "      try {\n",
              "        const charts = await google.colab.kernel.invokeFunction(\n",
              "            'suggestCharts', [key], {});\n",
              "      } catch (error) {\n",
              "        console.error('Error during call to suggestCharts:', error);\n",
              "      }\n",
              "      quickchartButtonEl.classList.remove('colab-df-spinner');\n",
              "      quickchartButtonEl.classList.add('colab-df-quickchart-complete');\n",
              "    }\n",
              "    (() => {\n",
              "      let quickchartButtonEl =\n",
              "        document.querySelector('#df-e517479c-2085-43b8-a23a-fe668bf32fb0 button');\n",
              "      quickchartButtonEl.style.display =\n",
              "        google.colab.kernel.accessAllowed ? 'block' : 'none';\n",
              "    })();\n",
              "  </script>\n",
              "</div>\n",
              "\n",
              "  <div id=\"id_6d4feffe-a8b7-495a-8dab-ed5e4d2ae7d2\">\n",
              "    <style>\n",
              "      .colab-df-generate {\n",
              "        background-color: #E8F0FE;\n",
              "        border: none;\n",
              "        border-radius: 50%;\n",
              "        cursor: pointer;\n",
              "        display: none;\n",
              "        fill: #1967D2;\n",
              "        height: 32px;\n",
              "        padding: 0 0 0 0;\n",
              "        width: 32px;\n",
              "      }\n",
              "\n",
              "      .colab-df-generate:hover {\n",
              "        background-color: #E2EBFA;\n",
              "        box-shadow: 0px 1px 2px rgba(60, 64, 67, 0.3), 0px 1px 3px 1px rgba(60, 64, 67, 0.15);\n",
              "        fill: #174EA6;\n",
              "      }\n",
              "\n",
              "      [theme=dark] .colab-df-generate {\n",
              "        background-color: #3B4455;\n",
              "        fill: #D2E3FC;\n",
              "      }\n",
              "\n",
              "      [theme=dark] .colab-df-generate:hover {\n",
              "        background-color: #434B5C;\n",
              "        box-shadow: 0px 1px 3px 1px rgba(0, 0, 0, 0.15);\n",
              "        filter: drop-shadow(0px 1px 2px rgba(0, 0, 0, 0.3));\n",
              "        fill: #FFFFFF;\n",
              "      }\n",
              "    </style>\n",
              "    <button class=\"colab-df-generate\" onclick=\"generateWithVariable('frequent_itemsets')\"\n",
              "            title=\"Generate code using this dataframe.\"\n",
              "            style=\"display:none;\">\n",
              "\n",
              "  <svg xmlns=\"http://www.w3.org/2000/svg\" height=\"24px\"viewBox=\"0 0 24 24\"\n",
              "       width=\"24px\">\n",
              "    <path d=\"M7,19H8.4L18.45,9,17,7.55,7,17.6ZM5,21V16.75L18.45,3.32a2,2,0,0,1,2.83,0l1.4,1.43a1.91,1.91,0,0,1,.58,1.4,1.91,1.91,0,0,1-.58,1.4L9.25,21ZM18.45,9,17,7.55Zm-12,3A5.31,5.31,0,0,0,4.9,8.1,5.31,5.31,0,0,0,1,6.5,5.31,5.31,0,0,0,4.9,4.9,5.31,5.31,0,0,0,6.5,1,5.31,5.31,0,0,0,8.1,4.9,5.31,5.31,0,0,0,12,6.5,5.46,5.46,0,0,0,6.5,12Z\"/>\n",
              "  </svg>\n",
              "    </button>\n",
              "    <script>\n",
              "      (() => {\n",
              "      const buttonEl =\n",
              "        document.querySelector('#id_6d4feffe-a8b7-495a-8dab-ed5e4d2ae7d2 button.colab-df-generate');\n",
              "      buttonEl.style.display =\n",
              "        google.colab.kernel.accessAllowed ? 'block' : 'none';\n",
              "\n",
              "      buttonEl.onclick = () => {\n",
              "        google.colab.notebook.generateWithVariable('frequent_itemsets');\n",
              "      }\n",
              "      })();\n",
              "    </script>\n",
              "  </div>\n",
              "\n",
              "    </div>\n",
              "  </div>\n"
            ],
            "application/vnd.google.colaboratory.intrinsic+json": {
              "type": "dataframe",
              "variable_name": "frequent_itemsets",
              "summary": "{\n  \"name\": \"frequent_itemsets\",\n  \"rows\": 3,\n  \"fields\": [\n    {\n      \"column\": \"support\",\n      \"properties\": {\n        \"dtype\": \"number\",\n        \"std\": 0.006658328118479399,\n        \"min\": 0.204,\n        \"max\": 0.217,\n        \"num_unique_values\": 3,\n        \"samples\": [\n          0.208,\n          0.204,\n          0.217\n        ],\n        \"semantic_type\": \"\",\n        \"description\": \"\"\n      }\n    },\n    {\n      \"column\": \"itemsets\",\n      \"properties\": {\n        \"dtype\": \"string\",\n        \"num_unique_values\": 3,\n        \"samples\": [\n          \"frozenset({'Headphones'})\",\n          \"frozenset({'Smartwatch'})\",\n          \"frozenset({'Tablet'})\"\n        ],\n        \"semantic_type\": \"\",\n        \"description\": \"\"\n      }\n    }\n  ]\n}"
            }
          },
          "metadata": {},
          "execution_count": 74
        }
      ]
    },
    {
      "cell_type": "code",
      "source": [
        "rules[['antecedents','consequents','confidence']]"
      ],
      "metadata": {
        "id": "lua0FVFb10fR",
        "colab": {
          "base_uri": "https://localhost:8080/",
          "height": 108
        },
        "outputId": "e854eddf-0012-48c1-e78c-f3a3a319c56f"
      },
      "execution_count": 75,
      "outputs": [
        {
          "output_type": "stream",
          "name": "stderr",
          "text": [
            "/usr/local/lib/python3.10/dist-packages/ipykernel/ipkernel.py:283: DeprecationWarning: `should_run_async` will not call `transform_cell` automatically in the future. Please pass the result to `transformed_cell` argument and any exception that happen during thetransform in `preprocessing_exc_tuple` in IPython 7.17 and above.\n",
            "  and should_run_async(code)\n"
          ]
        },
        {
          "output_type": "execute_result",
          "data": {
            "text/plain": [
              "Empty DataFrame\n",
              "Columns: [antecedents, consequents, confidence]\n",
              "Index: []"
            ],
            "text/html": [
              "\n",
              "  <div id=\"df-5e61322b-7803-47ac-93da-b8622597f737\" class=\"colab-df-container\">\n",
              "    <div>\n",
              "<style scoped>\n",
              "    .dataframe tbody tr th:only-of-type {\n",
              "        vertical-align: middle;\n",
              "    }\n",
              "\n",
              "    .dataframe tbody tr th {\n",
              "        vertical-align: top;\n",
              "    }\n",
              "\n",
              "    .dataframe thead th {\n",
              "        text-align: right;\n",
              "    }\n",
              "</style>\n",
              "<table border=\"1\" class=\"dataframe\">\n",
              "  <thead>\n",
              "    <tr style=\"text-align: right;\">\n",
              "      <th></th>\n",
              "      <th>antecedents</th>\n",
              "      <th>consequents</th>\n",
              "      <th>confidence</th>\n",
              "    </tr>\n",
              "  </thead>\n",
              "  <tbody>\n",
              "  </tbody>\n",
              "</table>\n",
              "</div>\n",
              "    <div class=\"colab-df-buttons\">\n",
              "\n",
              "  <div class=\"colab-df-container\">\n",
              "    <button class=\"colab-df-convert\" onclick=\"convertToInteractive('df-5e61322b-7803-47ac-93da-b8622597f737')\"\n",
              "            title=\"Convert this dataframe to an interactive table.\"\n",
              "            style=\"display:none;\">\n",
              "\n",
              "  <svg xmlns=\"http://www.w3.org/2000/svg\" height=\"24px\" viewBox=\"0 -960 960 960\">\n",
              "    <path d=\"M120-120v-720h720v720H120Zm60-500h600v-160H180v160Zm220 220h160v-160H400v160Zm0 220h160v-160H400v160ZM180-400h160v-160H180v160Zm440 0h160v-160H620v160ZM180-180h160v-160H180v160Zm440 0h160v-160H620v160Z\"/>\n",
              "  </svg>\n",
              "    </button>\n",
              "\n",
              "  <style>\n",
              "    .colab-df-container {\n",
              "      display:flex;\n",
              "      gap: 12px;\n",
              "    }\n",
              "\n",
              "    .colab-df-convert {\n",
              "      background-color: #E8F0FE;\n",
              "      border: none;\n",
              "      border-radius: 50%;\n",
              "      cursor: pointer;\n",
              "      display: none;\n",
              "      fill: #1967D2;\n",
              "      height: 32px;\n",
              "      padding: 0 0 0 0;\n",
              "      width: 32px;\n",
              "    }\n",
              "\n",
              "    .colab-df-convert:hover {\n",
              "      background-color: #E2EBFA;\n",
              "      box-shadow: 0px 1px 2px rgba(60, 64, 67, 0.3), 0px 1px 3px 1px rgba(60, 64, 67, 0.15);\n",
              "      fill: #174EA6;\n",
              "    }\n",
              "\n",
              "    .colab-df-buttons div {\n",
              "      margin-bottom: 4px;\n",
              "    }\n",
              "\n",
              "    [theme=dark] .colab-df-convert {\n",
              "      background-color: #3B4455;\n",
              "      fill: #D2E3FC;\n",
              "    }\n",
              "\n",
              "    [theme=dark] .colab-df-convert:hover {\n",
              "      background-color: #434B5C;\n",
              "      box-shadow: 0px 1px 3px 1px rgba(0, 0, 0, 0.15);\n",
              "      filter: drop-shadow(0px 1px 2px rgba(0, 0, 0, 0.3));\n",
              "      fill: #FFFFFF;\n",
              "    }\n",
              "  </style>\n",
              "\n",
              "    <script>\n",
              "      const buttonEl =\n",
              "        document.querySelector('#df-5e61322b-7803-47ac-93da-b8622597f737 button.colab-df-convert');\n",
              "      buttonEl.style.display =\n",
              "        google.colab.kernel.accessAllowed ? 'block' : 'none';\n",
              "\n",
              "      async function convertToInteractive(key) {\n",
              "        const element = document.querySelector('#df-5e61322b-7803-47ac-93da-b8622597f737');\n",
              "        const dataTable =\n",
              "          await google.colab.kernel.invokeFunction('convertToInteractive',\n",
              "                                                    [key], {});\n",
              "        if (!dataTable) return;\n",
              "\n",
              "        const docLinkHtml = 'Like what you see? Visit the ' +\n",
              "          '<a target=\"_blank\" href=https://colab.research.google.com/notebooks/data_table.ipynb>data table notebook</a>'\n",
              "          + ' to learn more about interactive tables.';\n",
              "        element.innerHTML = '';\n",
              "        dataTable['output_type'] = 'display_data';\n",
              "        await google.colab.output.renderOutput(dataTable, element);\n",
              "        const docLink = document.createElement('div');\n",
              "        docLink.innerHTML = docLinkHtml;\n",
              "        element.appendChild(docLink);\n",
              "      }\n",
              "    </script>\n",
              "  </div>\n",
              "\n",
              "\n",
              "    </div>\n",
              "  </div>\n"
            ],
            "application/vnd.google.colaboratory.intrinsic+json": {
              "type": "dataframe",
              "repr_error": "Out of range float values are not JSON compliant: nan"
            }
          },
          "metadata": {},
          "execution_count": 75
        }
      ]
    },
    {
      "cell_type": "code",
      "source": [],
      "metadata": {
        "id": "O_EwKN0110nE"
      },
      "execution_count": null,
      "outputs": []
    },
    {
      "cell_type": "markdown",
      "source": [
        "#More possible Analysis"
      ],
      "metadata": {
        "id": "rpckeVTdwmDw"
      }
    },
    {
      "cell_type": "code",
      "source": [
        "# 14) we can also find the similer user purchase behaiviour using collarative filternig ML approach based on that we can recommend product to users so that it will help in increase sales.\n",
        "# 15) We can also analyse data based on the GENDER categories so that we can target perticuler product more on interested GENDER group.\n",
        "# 16) We can also analyse data based on the AGE and Geolocation as bivariate analsis, so that we can target perticuler product more on interested group.\n",
        "# 17) Based on the membership analysis we can analyse which segment purchasing more items based on that we can aquire more memberships in effective manner.\n",
        "# 18) based on the product_name, discount and price column we can analyse the relationship of sales and discount, based on that we can decide effective discount on product for more sales."
      ],
      "metadata": {
        "id": "4lKeucQY10pt",
        "colab": {
          "base_uri": "https://localhost:8080/"
        },
        "outputId": "a4d58f42-b34d-4cc7-f8f5-35d731599a15"
      },
      "execution_count": 77,
      "outputs": [
        {
          "output_type": "stream",
          "name": "stderr",
          "text": [
            "/usr/local/lib/python3.10/dist-packages/ipykernel/ipkernel.py:283: DeprecationWarning: `should_run_async` will not call `transform_cell` automatically in the future. Please pass the result to `transformed_cell` argument and any exception that happen during thetransform in `preprocessing_exc_tuple` in IPython 7.17 and above.\n",
            "  and should_run_async(code)\n"
          ]
        }
      ]
    },
    {
      "cell_type": "code",
      "source": [],
      "metadata": {
        "id": "JpALn87P10un"
      },
      "execution_count": null,
      "outputs": []
    },
    {
      "cell_type": "code",
      "source": [
        "#important do not delete\n",
        "# from pyspark.sql import SparkSession\n",
        "# from pyspark.sql.functions import explode, udf\n",
        "# from pyspark.sql.types import ArrayType, StringType\n",
        "# from ast import literal_eval\n",
        "# # Define a UDF to convert the string representation of the list to an actual list of dictionaries\n",
        "# def convert_to_list(s):\n",
        "#     return literal_eval(s)\n",
        "# exploded_df = transaction_df.withColumn(\"exploded\", explode(udf(lambda x: literal_eval(x), ArrayType(StringType()))(transaction_df[\"items\"]))).show(truncate=False)\n"
      ],
      "metadata": {
        "id": "DV_MKsSdyH6z"
      },
      "execution_count": null,
      "outputs": []
    }
  ]
}